{
 "cells": [
  {
   "cell_type": "code",
   "execution_count": 3,
   "id": "3301bb22-05ac-4151-b8ce-e2b0c0fe7ba9",
   "metadata": {},
   "outputs": [
    {
     "name": "stdin",
     "output_type": "stream",
     "text": [
      "Nhập số nguyên 1..9:  9\n"
     ]
    },
    {
     "name": "stdout",
     "output_type": "stream",
     "text": [
      "\n",
      "=== Bài 1 ===\n",
      "input : 9\n",
      "output: chín\n"
     ]
    }
   ],
   "source": [
    "# ================== BÀI 1: Đọc số nguyên 1..9 ==================\n",
    "n = int(input(\"Nhập số nguyên 1..9: \"))\n",
    "print(\"\\n=== Bài 1 ===\")\n",
    "print(\"input :\", n)\n",
    "tu = {1:\"một\",2:\"hai\",3:\"ba\",4:\"bốn\",5:\"năm\",6:\"sáu\",7:\"bảy\",8:\"tám\",9:\"chín\"}\n",
    "print(\"output:\", tu.get(n, \"không đọc được\"))"
   ]
  },
  {
   "cell_type": "code",
   "execution_count": 3,
   "id": "024fce59-dcc7-4d6d-8a93-0a6bc091a964",
   "metadata": {},
   "outputs": [
    {
     "name": "stdout",
     "output_type": "stream",
     "text": [
      "\n",
      "=== Bài 2 ===\n",
      "input : a\n",
      "output: A\n"
     ]
    }
   ],
   "source": [
    "# ================== Bài 2: Đổi chữ thường <-> chữ hoa cho một ký tự ==================\n",
    "\n",
    "def doi_chu(c: str) -> str:\n",
    "    if len(c) != 1 or not c.isalpha():\n",
    "        return \"không phải chữ cái\"\n",
    "    return c.upper() if c.islower() else c.lower()\n",
    "\n",
    "# --- demo ---\n",
    "c = 'a'   # đổi ký tự tùy ý\n",
    "print(\"\\n=== Bài 2 ===\")\n",
    "print(\"input :\", c)\n",
    "print(\"output:\", doi_chu(c))"
   ]
  },
  {
   "cell_type": "code",
   "execution_count": 1,
   "id": "ddcefb1f-8995-4df4-a3d1-51d76b957aad",
   "metadata": {},
   "outputs": [
    {
     "name": "stdin",
     "output_type": "stream",
     "text": [
      "Nhập 1 chữ cái:  a\n"
     ]
    },
    {
     "name": "stdout",
     "output_type": "stream",
     "text": [
      "\n",
      "=== Bài 2 ===\n",
      "input : 'a'\n",
      "output: A\n"
     ]
    }
   ],
   "source": [
    "# ================== Bài 2 (nhập từ bàn phím): Đổi chữ thường <-> chữ hoa ==================\n",
    "\n",
    "c = input(\"Nhập 1 chữ cái: \").strip()\n",
    "\n",
    "print(\"\\n=== Bài 2 ===\")\n",
    "print(\"input :\", repr(c))\n",
    "\n",
    "if len(c) != 1 or not c.isalpha():\n",
    "    print(\"output:\", \"không phải chữ cái (hãy nhập đúng 1 chữ)\")\n",
    "else:\n",
    "    out = c.upper() if c.islower() else c.lower()\n",
    "    print(\"output:\", out)"
   ]
  },
  {
   "cell_type": "code",
   "execution_count": null,
   "id": "d68da8f2-db4e-4f97-82b7-4e264b8ecbe3",
   "metadata": {},
   "outputs": [],
   "source": []
  }
 ],
 "metadata": {
  "kernelspec": {
   "display_name": "Python 3 (ipykernel)",
   "language": "python",
   "name": "python3"
  },
  "language_info": {
   "codemirror_mode": {
    "name": "ipython",
    "version": 3
   },
   "file_extension": ".py",
   "mimetype": "text/x-python",
   "name": "python",
   "nbconvert_exporter": "python",
   "pygments_lexer": "ipython3",
   "version": "3.12.1"
  }
 },
 "nbformat": 4,
 "nbformat_minor": 5
}
