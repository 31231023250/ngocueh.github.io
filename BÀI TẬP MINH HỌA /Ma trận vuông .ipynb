{
 "cells": [
  {
   "cell_type": "code",
   "execution_count": 2,
   "id": "4dd3e128-8a05-45d9-9442-d54ed659535e",
   "metadata": {},
   "outputs": [
    {
     "name": "stdin",
     "output_type": "stream",
     "text": [
      "Nhập n:  3\n"
     ]
    },
    {
     "name": "stdout",
     "output_type": "stream",
     "text": [
      "Nhập ma trận 3x3 (mỗi dòng 3 số nguyên, cách nhau bằng khoảng trắng):\n"
     ]
    },
    {
     "name": "stdin",
     "output_type": "stream",
     "text": [
      "Dòng 1:  5 6 7\n",
      "Dòng 2:  7 4 6\n",
      "Dòng 3:  1 3 5 \n"
     ]
    },
    {
     "name": "stdout",
     "output_type": "stream",
     "text": [
      "\n",
      "=== Bài 1: In chéo chính, phụ ===\n",
      "Các phần tử trên chéo chính: 5 4 5\n",
      "Các phần tử trên chéo phụ: 7 4 1\n"
     ]
    }
   ],
   "source": [
    "# =============== MA TRẬN VUÔNG — BÀI 1: In chéo chính, phụ ===============\n",
    "n = int(input(\"Nhập n: \"))\n",
    "A = []\n",
    "print(f\"Nhập ma trận {n}x{n} (mỗi dòng {n} số nguyên, cách nhau bằng khoảng trắng):\")\n",
    "for i in range(n):\n",
    "    row = list(map(int, input(f\"Dòng {i+1}: \").split()))\n",
    "    while len(row) != n:\n",
    "        row = list(map(int, input(f\"Dòng {i+1} phải có {n} số, nhập lại: \").split()))\n",
    "    A.append(row)\n",
    "\n",
    "cheo_chinh = [A[i][i] for i in range(n)]\n",
    "cheo_phu   = [A[i][n-1-i] for i in range(n)]\n",
    "\n",
    "print(\"\\n=== Bài 1: In chéo chính, phụ ===\")\n",
    "print(\"Các phần tử trên chéo chính:\", *cheo_chinh)\n",
    "print(\"Các phần tử trên chéo phụ:\", *cheo_phu)"
   ]
  },
  {
   "cell_type": "code",
   "execution_count": 3,
   "id": "e6676d75-4971-47a4-a33b-bdc9b5fe9eca",
   "metadata": {},
   "outputs": [
    {
     "name": "stdin",
     "output_type": "stream",
     "text": [
      "Nhập n:  4 \n"
     ]
    },
    {
     "name": "stdout",
     "output_type": "stream",
     "text": [
      "Nhập ma trận 4x4 (số thực, mỗi dòng 4 số):\n"
     ]
    },
    {
     "name": "stdin",
     "output_type": "stream",
     "text": [
      "Dòng 1:  5 1 3 5\n",
      "Dòng 2:  1 7 8 9\n",
      "Dòng 3:  10 11 12 13\n",
      "Dòng 4:  15 16 17 18\n"
     ]
    },
    {
     "name": "stdout",
     "output_type": "stream",
     "text": [
      "\n",
      "=== Bài 2: In tam giác trên chéo chính, phụ ===\n",
      "Tam giác trên chéo chính: 1 3 5 8 9 13\n",
      "Tam giác trên chéo phụ: 5 1 3 1 7 10\n"
     ]
    }
   ],
   "source": [
    "# =============== MA TRẬN VUÔNG — BÀI 2: In tam giác trên (chéo chính, phụ) ===============\n",
    "n = int(input(\"Nhập n: \"))\n",
    "A = []\n",
    "print(f\"Nhập ma trận {n}x{n} (số thực, mỗi dòng {n} số):\")\n",
    "for i in range(n):\n",
    "    row = list(map(float, input(f\"Dòng {i+1}: \").split()))\n",
    "    while len(row) != n:\n",
    "        row = list(map(float, input(f\"Dòng {i+1} phải có {n} số, nhập lại: \").split()))\n",
    "    A.append(row)\n",
    "\n",
    "fmt = lambda x: f\"{x:g}\"  # in số thực gọn như slide\n",
    "\n",
    "tg_tren_chinh = [A[i][j] for i in range(n) for j in range(i+1, n)]\n",
    "tg_tren_phu   = [A[i][j] for i in range(n) for j in range(n) if i + j < n - 1]\n",
    "\n",
    "print(\"\\n=== Bài 2: In tam giác trên chéo chính, phụ ===\")\n",
    "print(\"Tam giác trên chéo chính:\", \" \".join(fmt(x) for x in tg_tren_chinh))\n",
    "print(\"Tam giác trên chéo phụ:\", \" \".join(fmt(x) for x in tg_tren_phu))"
   ]
  },
  {
   "cell_type": "code",
   "execution_count": 4,
   "id": "8d4aba84-f01a-423e-968b-b8d86baca148",
   "metadata": {},
   "outputs": [
    {
     "name": "stdin",
     "output_type": "stream",
     "text": [
      "Nhập n:  2\n"
     ]
    },
    {
     "name": "stdout",
     "output_type": "stream",
     "text": [
      "Nhập ma trận 2x2 (số thực, mỗi dòng 2 số):\n"
     ]
    },
    {
     "name": "stdin",
     "output_type": "stream",
     "text": [
      "Dòng 1:  5 10\n",
      "Dòng 2:  2 4\n"
     ]
    },
    {
     "name": "stdout",
     "output_type": "stream",
     "text": [
      "\n",
      "=== Bài 3: Đếm loại số trong nửa tam giác trên chéo chính ===\n",
      "+ 0 số âm\n",
      "+ 1 số dương\n",
      "+ 0 số không\n"
     ]
    }
   ],
   "source": [
    "# =============== MA TRẬN VUÔNG — BÀI 3: Đếm loại số ở tam giác trên (chéo chính) ===============\n",
    "n = int(input(\"Nhập n: \"))\n",
    "A = []\n",
    "print(f\"Nhập ma trận {n}x{n} (số thực, mỗi dòng {n} số):\")\n",
    "for i in range(n):\n",
    "    row = list(map(float, input(f\"Dòng {i+1}: \").split()))\n",
    "    while len(row) != n:\n",
    "        row = list(map(float, input(f\"Dòng {i+1} phải có {n} số, nhập lại: \").split()))\n",
    "    A.append(row)\n",
    "\n",
    "am = duong = khong = 0\n",
    "for i in range(n):\n",
    "    for j in range(i+1, n):  # trên chéo chính\n",
    "        v = A[i][j]\n",
    "        if v < 0: am += 1\n",
    "        elif v > 0: duong += 1\n",
    "        else: khong += 1\n",
    "\n",
    "print(\"\\n=== Bài 3: Đếm loại số trong nửa tam giác trên chéo chính ===\")\n",
    "print(f\"+ {am} số âm\")\n",
    "print(f\"+ {duong} số dương\")\n",
    "print(f\"+ {khong} số không\")"
   ]
  },
  {
   "cell_type": "code",
   "execution_count": 5,
   "id": "e652d8fa-2567-4723-a438-52be33e5b8ad",
   "metadata": {},
   "outputs": [
    {
     "name": "stdin",
     "output_type": "stream",
     "text": [
      "Nhập n:  3\n"
     ]
    },
    {
     "name": "stdout",
     "output_type": "stream",
     "text": [
      "Nhập ma trận 3x3 (mỗi dòng 3 số nguyên):\n"
     ]
    },
    {
     "name": "stdin",
     "output_type": "stream",
     "text": [
      "Dòng 1:  1 2 3 \n",
      "Dòng 2:  4 5 6\n",
      "Dòng 3:  7 5 3 \n"
     ]
    },
    {
     "name": "stdout",
     "output_type": "stream",
     "text": [
      "\n",
      "=== Bài 4: In các đường song song với chéo chính, phụ ===\n",
      "Các đường song song chéo chính: [3][2, 6][1, 5, 3][4, 5][7]\n",
      "Các đường song song chéo phụ: [1][2, 4][3, 5, 7][6, 5][3]\n"
     ]
    }
   ],
   "source": [
    "# =============== MA TRẬN VUÔNG — BÀI 4: Đường song song chéo chính & phụ ===============\n",
    "n = int(input(\"Nhập n: \"))\n",
    "A = []\n",
    "print(f\"Nhập ma trận {n}x{n} (mỗi dòng {n} số nguyên):\")\n",
    "for i in range(n):\n",
    "    row = list(map(int, input(f\"Dòng {i+1}: \").split()))\n",
    "    while len(row) != n:\n",
    "        row = list(map(int, input(f\"Dòng {i+1} phải có {n} số, nhập lại: \").split()))\n",
    "    A.append(row)\n",
    "\n",
    "# Các đường song song chéo chính (\\): j - i = k, k chạy từ n-1 -> -(n-1)\n",
    "song_song_chinh = []\n",
    "for k in range(n-1, -n, -1):\n",
    "    diag = []\n",
    "    for i in range(n):\n",
    "        j = i + k\n",
    "        if 0 <= j < n:\n",
    "            diag.append(A[i][j])\n",
    "    song_song_chinh.append(diag)\n",
    "\n",
    "# Các đường song song chéo phụ (/): i + j = s, s chạy 0..2n-2\n",
    "song_song_phu = []\n",
    "for s in range(0, 2*n - 1):\n",
    "    diag = []\n",
    "    i_start = 0 if s < n else s - (n - 1)\n",
    "    i_end   = min(n - 1, s)\n",
    "    for i in range(i_start, i_end + 1):\n",
    "        j = s - i\n",
    "        diag.append(A[i][j])\n",
    "    song_song_phu.append(diag)\n",
    "\n",
    "def show(groups):\n",
    "    return \"\".join(\"[\" + \", \".join(str(x) for x in g) + \"]\" for g in groups if g)\n",
    "\n",
    "print(\"\\n=== Bài 4: In các đường song song với chéo chính, phụ ===\")\n",
    "print(\"Các đường song song chéo chính:\", show(song_song_chinh))\n",
    "print(\"Các đường song song chéo phụ:\", show(song_song_phu))"
   ]
  },
  {
   "cell_type": "code",
   "execution_count": 6,
   "id": "f356e7f7-4814-4034-a9d3-c42781d91168",
   "metadata": {},
   "outputs": [
    {
     "name": "stdin",
     "output_type": "stream",
     "text": [
      "Nhập n:  2 \n"
     ]
    },
    {
     "name": "stdout",
     "output_type": "stream",
     "text": [
      "Nhập ma trận 2x2 (mỗi dòng 2 số nguyên):\n"
     ]
    },
    {
     "name": "stdin",
     "output_type": "stream",
     "text": [
      "Dòng 1:  6 7\n",
      "Dòng 2:  7 9\n"
     ]
    },
    {
     "name": "stdout",
     "output_type": "stream",
     "text": [
      "\n",
      "=== Bài 5: In các cột, dòng theo hình ===\n",
      "Các dòng: [6, 7][9, 7]\n",
      "Các cột: [6, 7][9, 7]\n"
     ]
    }
   ],
   "source": [
    "# =============== MA TRẬN VUÔNG — BÀI 5: In các cột, dòng theo hình (zigzag) ===============\n",
    "n = int(input(\"Nhập n: \"))\n",
    "A = []\n",
    "print(f\"Nhập ma trận {n}x{n} (mỗi dòng {n} số nguyên):\")\n",
    "for i in range(n):\n",
    "    row = list(map(int, input(f\"Dòng {i+1}: \").split()))\n",
    "    while len(row) != n:\n",
    "        row = list(map(int, input(f\"Dòng {i+1} phải có {n} số, nhập lại: \").split()))\n",
    "    A.append(row)\n",
    "\n",
    "# Dòng: trái→phải rồi phải→trái luân phiên\n",
    "rows = []\n",
    "for i in range(n):\n",
    "    r = A[i][:]\n",
    "    if i % 2 == 1:\n",
    "        r = r[::-1]\n",
    "    rows.append(r)\n",
    "\n",
    "# Cột: trên→dưới rồi dưới→trên luân phiên\n",
    "cols = []\n",
    "for j in range(n):\n",
    "    c = [A[i][j] for i in range(n)]\n",
    "    if j % 2 == 1:\n",
    "        c = c[::-1]\n",
    "    cols.append(c)\n",
    "\n",
    "def show(groups):\n",
    "    return \"\".join(\"[\" + \", \".join(str(x) for x in g) + \"]\" for g in groups)\n",
    "\n",
    "print(\"\\n=== Bài 5: In các cột, dòng theo hình ===\")\n",
    "print(\"Các dòng:\", show(rows))\n",
    "print(\"Các cột:\", show(cols))"
   ]
  }
 ],
 "metadata": {
  "kernelspec": {
   "display_name": "Python 3 (ipykernel)",
   "language": "python",
   "name": "python3"
  },
  "language_info": {
   "codemirror_mode": {
    "name": "ipython",
    "version": 3
   },
   "file_extension": ".py",
   "mimetype": "text/x-python",
   "name": "python",
   "nbconvert_exporter": "python",
   "pygments_lexer": "ipython3",
   "version": "3.12.1"
  }
 },
 "nbformat": 4,
 "nbformat_minor": 5
}
