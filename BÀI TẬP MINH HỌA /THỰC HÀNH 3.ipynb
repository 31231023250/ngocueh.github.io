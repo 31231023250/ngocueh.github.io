{
 "cells": [
  {
   "cell_type": "code",
   "execution_count": 1,
   "id": "1e6dbf1c-2906-46e0-8cb7-4cbc4390ffaa",
   "metadata": {},
   "outputs": [
    {
     "name": "stdout",
     "output_type": "stream",
     "text": [
      "Input: ['3', '27', '5', '123', '9', '1']\n",
      "StringSort: ['1', '123', '27', '3', '5', '9']\n",
      "INTSort: ['1', '3', '5', '9', '27', '123']\n"
     ]
    }
   ],
   "source": [
    "# ================== THỰC HÀNH 3 — Bài 1: Sắp xếp List dùng string_compare và integer_compare ==================\n",
    "\n",
    "A = ['3', '27', '5', '123', '9', '1']\n",
    "print(\"Input:\", A)\n",
    "\n",
    "# string_compare (so sánh theo thứ tự chuỗi)\n",
    "StringSort = sorted(A)\n",
    "print(\"StringSort:\", StringSort)\n",
    "\n",
    "def myintSort(a):\n",
    "    return int(a)\n",
    "\n",
    "# integer_compare (so sánh theo giá trị số)\n",
    "INTSort = sorted(A, key=myintSort)\n",
    "print(\"INTSort:\", INTSort)"
   ]
  },
  {
   "cell_type": "code",
   "execution_count": 2,
   "id": "f5c051a4-1e60-42e7-8246-01ef88b399b8",
   "metadata": {},
   "outputs": [
    {
     "name": "stdout",
     "output_type": "stream",
     "text": [
      "Input: [12, 24, 35, 70, 88, 120, 155]\n",
      "Sau khi Xoa: [12, 88, 120]\n"
     ]
    }
   ],
   "source": [
    "# ================== THỰC HÀNH 3 — Bài 2: Xóa phần tử tại vị trí 1,2,3,6 ==================\n",
    "\n",
    "A = [12,24,35,70,88,120,155]\n",
    "print(\"Input:\", A)\n",
    "\n",
    "indexR = [1,2,3,6]   # cac vi tri can xoa (theo index 0)\n",
    "B = [x for i, x in enumerate(A) if i not in indexR]\n",
    "print(\"Sau khi Xoa:\", B)\n"
   ]
  },
  {
   "cell_type": "code",
   "execution_count": 3,
   "id": "3eda4c7a-1866-46f8-b62f-6744fcfe82a7",
   "metadata": {},
   "outputs": [
    {
     "name": "stdout",
     "output_type": "stream",
     "text": [
      "Input: [1, 1, 1, 2, 2, 2, 3, 1, 2, 5, 6, 7, 8, 5, 6, 7]\n",
      "Output_1: [1, 2, 3, 5, 6, 7, 8]\n",
      "Output_2: [1, 2, 3, 5, 6, 7, 8]\n",
      "Output_3: [1, 2, 3, 5, 6, 7, 8]\n",
      "Output_4: [1, 2, 3, 5, 6, 7, 8]\n"
     ]
    }
   ],
   "source": [
    "# ================== THỰC HÀNH 3 — Bài 3: Xóa các phần tử trùng nhau trong list ==================\n",
    "\n",
    "A  = [1, 1, 1, 2, 2, 2, 3, 1, 2, 5, 6, 7, 8, 5, 6, 7]\n",
    "print(\"Input:\", A)\n",
    "\n",
    "B = []\n",
    "[B.append(x) for x in A if x not in B]\n",
    "print(\"Output_1:\", B)\n",
    "\n",
    "### List comprehension\n",
    "newlist = [ii for n, ii in enumerate(A) if ii not in A[:n]]\n",
    "print(\"Output_2:\", newlist)\n",
    "\n",
    "# dung tap hop\n",
    "Newlist_set = list(set(A))\n",
    "print(\"Output_3:\", Newlist_set)      # lưu ý: thứ tự có thể khác vì dùng set\n",
    "\n",
    "# dung tu dien\n",
    "mylist = list(dict.fromkeys(A))\n",
    "print(\"Output_4:\", mylist)"
   ]
  }
 ],
 "metadata": {
  "kernelspec": {
   "display_name": "Python 3 (ipykernel)",
   "language": "python",
   "name": "python3"
  },
  "language_info": {
   "codemirror_mode": {
    "name": "ipython",
    "version": 3
   },
   "file_extension": ".py",
   "mimetype": "text/x-python",
   "name": "python",
   "nbconvert_exporter": "python",
   "pygments_lexer": "ipython3",
   "version": "3.12.1"
  }
 },
 "nbformat": 4,
 "nbformat_minor": 5
}
