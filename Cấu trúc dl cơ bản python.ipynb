{
 "cells": [
  {
   "cell_type": "code",
   "execution_count": 9,
   "id": "e53a59c6-45f1-45ae-8ac8-44166f30b262",
   "metadata": {},
   "outputs": [
    {
     "name": "stdout",
     "output_type": "stream",
     "text": [
      "\n",
      "=== Bài 1: Tần số xuất hiện của từ (WordHistogram) ===\n"
     ]
    },
    {
     "name": "stdin",
     "output_type": "stream",
     "text": [
      "Nhập số dòng n:  3\n",
      " 1\n",
      " 4\n",
      " 5\n"
     ]
    },
    {
     "name": "stdout",
     "output_type": "stream",
     "text": [
      "== Kết quả (sort theo chữ cái) ==\n",
      "1: 1\n",
      "4: 1\n",
      "5: 1\n"
     ]
    }
   ],
   "source": [
    "# -------------------------------------- BÀI 1:  --------------------------------------\n",
    "import re\n",
    "\n",
    "def tokenize_vn(s: str):\n",
    "    # tách từ (chữ/số/tiếng Việt có dấu), đưa về lowercase\n",
    "    return re.findall(r\"[0-9A-Za-zÀ-ỹ]+\", s.lower())\n",
    "\n",
    "# -------------------------------------- BÀI 1: Tần số xuất hiện của từ (WordHistogram) --------------------------------------\n",
    "print(\"\\n=== Bài 1: Tần số xuất hiện của từ (WordHistogram) ===\")\n",
    "n = int(input(\"Nhập số dòng n: \"))\n",
    "lines = [input() for _ in range(n)]\n",
    "\n",
    "freq = {}\n",
    "for line in lines:\n",
    "    for w in tokenize_vn(line):\n",
    "        freq[w] = freq.get(w, 0) + 1\n",
    "\n",
    "print(\"== Kết quả (sort theo chữ cái) ==\")\n",
    "for w in sorted(freq):\n",
    "    print(f\"{w}: {freq[w]}\")"
   ]
  },
  {
   "cell_type": "code",
   "execution_count": 14,
   "id": "67bb5d63-5da8-4cde-906f-5537fe9dddd9",
   "metadata": {},
   "outputs": [
    {
     "name": "stdout",
     "output_type": "stream",
     "text": [
      "\n",
      "=== Bài 2: Đảo từ (ReverseWord) ===\n"
     ]
    },
    {
     "name": "stdin",
     "output_type": "stream",
     "text": [
      "Nhập số câu cần đảo:  2\n",
      " CA AN KIEN\n"
     ]
    },
    {
     "name": "stdout",
     "output_type": "stream",
     "text": [
      "KIEN AN CA\n"
     ]
    },
    {
     "name": "stdin",
     "output_type": "stream",
     "text": [
      " KIM NGOC\n"
     ]
    },
    {
     "name": "stdout",
     "output_type": "stream",
     "text": [
      "NGOC KIM\n"
     ]
    }
   ],
   "source": [
    "# -------------------------------------- BÀI 2: Đảo từ (ReverseWord) --------------------------------------\n",
    "print(\"\\n=== Bài 2: Đảo từ (ReverseWord) ===\")\n",
    "t = int(input(\"Nhập số câu cần đảo: \"))\n",
    "for _ in range(t):\n",
    "    s = input()\n",
    "    words = s.split()\n",
    "    print(\" \".join(reversed(words)))"
   ]
  },
  {
   "cell_type": "code",
   "execution_count": 15,
   "id": "61093835-b843-481d-b42b-fa2708144190",
   "metadata": {},
   "outputs": [
    {
     "name": "stdout",
     "output_type": "stream",
     "text": [
      "\n",
      "=== Bài 3: Phần tử quan trọng (MajororyElement) ===\n"
     ]
    },
    {
     "name": "stdin",
     "output_type": "stream",
     "text": [
      "Nhập n:  3\n",
      "Nhập 3 số nguyên:  3 5 7\n"
     ]
    },
    {
     "name": "stdout",
     "output_type": "stream",
     "text": [
      "Kết quả: 7\n"
     ]
    }
   ],
   "source": [
    "# -------------------------------------- BÀI 3: Phần tử quan trọng (MajorityElement) --------------------------------------\n",
    "print(\"\\n=== Bài 3: Phần tử quan trọng (MajororyElement) ===\")\n",
    "n = int(input(\"Nhập n: \"))\n",
    "arr = list(map(int, input(f\"Nhập {n} số nguyên: \").split()))\n",
    "while len(arr) != n:\n",
    "    arr = list(map(int, input(f\"Chưa đủ {n} số, nhập lại: \").split()))\n",
    "\n",
    "# Boyer–Moore\n",
    "cand = None\n",
    "cnt = 0\n",
    "for x in arr:\n",
    "    if cnt == 0:\n",
    "        cand = x\n",
    "        cnt = 1\n",
    "    elif x == cand:\n",
    "        cnt += 1\n",
    "    else:\n",
    "        cnt -= 1\n",
    "\n",
    "print(\"Kết quả:\", cand)"
   ]
  },
  {
   "cell_type": "code",
   "execution_count": 17,
   "id": "c7ae18ba-f324-41fa-88cd-fd31a18e1fab",
   "metadata": {},
   "outputs": [
    {
     "name": "stdout",
     "output_type": "stream",
     "text": [
      "\n",
      "=== Bài 4: Số hạnh phúc (HappyNumber) ===\n"
     ]
    },
    {
     "name": "stdin",
     "output_type": "stream",
     "text": [
      "Nhập n:  5\n"
     ]
    },
    {
     "name": "stdout",
     "output_type": "stream",
     "text": [
      "False\n"
     ]
    }
   ],
   "source": [
    "# -------------------------------------- BÀI 4: Số hạnh phúc (HappyNumber) --------------------------------------\n",
    "print(\"\\n=== Bài 4: Số hạnh phúc (HappyNumber) ===\")\n",
    "def sum_sq_digits(x: int) -> int:\n",
    "    s = 0\n",
    "    while x > 0:\n",
    "        d = x % 10\n",
    "        s += d*d\n",
    "        x //= 10\n",
    "    return s\n",
    "\n",
    "x = int(input(\"Nhập n: \"))\n",
    "\n",
    "seen = set()\n",
    "cur = x\n",
    "while cur != 1 and cur not in seen:\n",
    "    seen.add(cur)\n",
    "    cur = sum_sq_digits(cur)\n",
    "\n",
    "print(\"True\" if cur == 1 else \"False\")"
   ]
  },
  {
   "cell_type": "code",
   "execution_count": 18,
   "id": "fd409e32-7632-4fc4-8e20-982f97bfc40d",
   "metadata": {},
   "outputs": [
    {
     "name": "stdout",
     "output_type": "stream",
     "text": [
      "\n",
      "=== Bài 5: Chuỗi đẳng cấu (IsomorphicStrings) ===\n"
     ]
    },
    {
     "name": "stdin",
     "output_type": "stream",
     "text": [
      "Nhập số test:  3\n",
      "s =  4\n",
      "t =  5\n"
     ]
    },
    {
     "name": "stdout",
     "output_type": "stream",
     "text": [
      "True\n"
     ]
    },
    {
     "name": "stdin",
     "output_type": "stream",
     "text": [
      "s =  7\n",
      "t =  8\n"
     ]
    },
    {
     "name": "stdout",
     "output_type": "stream",
     "text": [
      "True\n"
     ]
    },
    {
     "name": "stdin",
     "output_type": "stream",
     "text": [
      "s =  9\n",
      "t =  2\n"
     ]
    },
    {
     "name": "stdout",
     "output_type": "stream",
     "text": [
      "True\n"
     ]
    }
   ],
   "source": [
    "# -------------------------------------- BÀI 5: Chuỗi đẳng cấu (IsomorphicStrings) --------------------------------------\n",
    "print(\"\\n=== Bài 5: Chuỗi đẳng cấu (IsomorphicStrings) ===\")\n",
    "def is_isomorphic(a: str, b: str) -> bool:\n",
    "    if len(a) != len(b):\n",
    "        return False\n",
    "    map_a_to_b = {}\n",
    "    map_b_to_a = {}\n",
    "    for ca, cb in zip(a, b):\n",
    "        if ca in map_a_to_b and map_a_to_b[ca] != cb:\n",
    "            return False\n",
    "        if cb in map_b_to_a and map_b_to_a[cb] != ca:\n",
    "            return False\n",
    "        map_a_to_b[ca] = cb\n",
    "        map_b_to_a[cb] = ca\n",
    "    return True\n",
    "\n",
    "tests = int(input(\"Nhập số test: \"))\n",
    "for _ in range(tests):\n",
    "    s = input(\"s = \").strip()\n",
    "    t = input(\"t = \").strip()\n",
    "    print(\"True\" if is_isomorphic(s, t) else \"False\")"
   ]
  }
 ],
 "metadata": {
  "kernelspec": {
   "display_name": "Python 3 (ipykernel)",
   "language": "python",
   "name": "python3"
  },
  "language_info": {
   "codemirror_mode": {
    "name": "ipython",
    "version": 3
   },
   "file_extension": ".py",
   "mimetype": "text/x-python",
   "name": "python",
   "nbconvert_exporter": "python",
   "pygments_lexer": "ipython3",
   "version": "3.12.1"
  }
 },
 "nbformat": 4,
 "nbformat_minor": 5
}
