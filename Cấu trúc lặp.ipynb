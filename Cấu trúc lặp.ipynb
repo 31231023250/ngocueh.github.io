{
 "cells": [
  {
   "cell_type": "code",
   "execution_count": 1,
   "id": "dadc59b7-8db6-4be4-a46a-bd33970f3651",
   "metadata": {},
   "outputs": [
    {
     "name": "stdin",
     "output_type": "stream",
     "text": [
      "Nhập n (nguyên dương):  8\n"
     ]
    },
    {
     "name": "stdout",
     "output_type": "stream",
     "text": [
      "\n",
      "=== Bài 1 ===\n",
      "input : 8\n",
      "Đối xứng         : có\n",
      "Chính phương     : không\n",
      "Nguyên tố        : không\n",
      "Chữ số lớn nhất  : 8\n",
      "Chữ số nhỏ nhất  : 8\n",
      "Xu hướng chữ số  : tăng dần\n"
     ]
    }
   ],
   "source": [
    "# ================== CẤU TRÚC LẶP — BÀI 1 ==================\n",
    "from math import isqrt\n",
    "\n",
    "def is_prime(n: int) -> bool:\n",
    "    if n < 2: return False\n",
    "    if n % 2 == 0: return n == 2\n",
    "    r = isqrt(n)\n",
    "    for i in range(3, r+1, 2):\n",
    "        if n % i == 0: return False\n",
    "    return True\n",
    "\n",
    "n_str = input(\"Nhập n (nguyên dương): \").strip()\n",
    "while not n_str.isdigit() or int(n_str) <= 0:\n",
    "    n_str = input(\"Nhập lại n > 0: \").strip()\n",
    "n = int(n_str)\n",
    "\n",
    "print(\"\\n=== Bài 1 ===\")\n",
    "print(\"input :\", n)\n",
    "\n",
    "# a) số đối xứng\n",
    "s = str(n)\n",
    "doi_xung = (s == s[::-1])\n",
    "\n",
    "# b) số chính phương\n",
    "cp = (isqrt(n) ** 2 == n)\n",
    "\n",
    "# c) số nguyên tố\n",
    "nt = is_prime(n)\n",
    "\n",
    "# d) chữ số lớn nhất & nhỏ nhất\n",
    "digits = [int(ch) for ch in s]\n",
    "mx, mn = max(digits), min(digits)\n",
    "\n",
    "# e) các chữ số tăng dần hay giảm dần\n",
    "inc = all(digits[i] < digits[i+1] for i in range(len(digits)-1)) if len(digits) > 1 else True\n",
    "dec = all(digits[i] > digits[i+1] for i in range(len(digits)-1)) if len(digits) > 1 else True\n",
    "trend = \"tăng dần\" if inc else (\"giảm dần\" if dec else \"không tăng/không giảm thuần\")\n",
    "\n",
    "print(\"Đối xứng         :\", \"có\" if doi_xung else \"không\")\n",
    "print(\"Chính phương     :\", \"có\" if cp else \"không\")\n",
    "print(\"Nguyên tố        :\", \"có\" if nt else \"không\")\n",
    "print(\"Chữ số lớn nhất  :\", mx)\n",
    "print(\"Chữ số nhỏ nhất  :\", mn)\n",
    "print(\"Xu hướng chữ số  :\", trend)"
   ]
  },
  {
   "cell_type": "code",
   "execution_count": 3,
   "id": "8e89cd3f-9e08-48c7-bbe9-b9b2af5c97c4",
   "metadata": {},
   "outputs": [
    {
     "name": "stdin",
     "output_type": "stream",
     "text": [
      "Nhập n (nguyên dương):  10\n"
     ]
    },
    {
     "name": "stdout",
     "output_type": "stream",
     "text": [
      "\n",
      "=== Bài 2 ===\n",
      "input : 10\n",
      "a) S = 1 + 2 + ... + n        = 55\n",
      "b) S = 1^2 + 2^2 + ... + n^2  = 385\n",
      "c) S = 1 + 1/2 + ... + 1/n    = 2.9289682539682538\n",
      "d) S = n!                     = 3628800\n",
      "e) S = 1! + 2! + ... + n!     = 4037913\n"
     ]
    }
   ],
   "source": [
    "# ================== CẤU TRÚC LẶP — BÀI 2 ==================\n",
    "n_str = input(\"Nhập n (nguyên dương): \").strip()\n",
    "while not n_str.isdigit() or int(n_str) <= 0:\n",
    "    n_str = input(\"Nhập lại n > 0: \").strip()\n",
    "n = int(n_str)\n",
    "\n",
    "print(\"\\n=== Bài 2 ===\")\n",
    "print(\"input :\", n)\n",
    "\n",
    "# a) 1 + ... + n\n",
    "Sa = 0\n",
    "for i in range(1, n+1):\n",
    "    Sa += i\n",
    "\n",
    "# b) 1^2 + ... + n^2\n",
    "Sb = 0\n",
    "for i in range(1, n+1):\n",
    "    Sb += i*i\n",
    "\n",
    "# c) 1 + 1/2 + ... + 1/n\n",
    "Sc = 0.0\n",
    "for i in range(1, n+1):\n",
    "    Sc += 1.0/i\n",
    "\n",
    "# d) n! = 1*2*...*n\n",
    "Sd = 1\n",
    "for i in range(1, n+1):\n",
    "    Sd *= i\n",
    "\n",
    "# e) 1! + 2! + ... + n!  (tận dụng giai thừa trước đó)\n",
    "Se = 0\n",
    "gt = 1\n",
    "for i in range(1, n+1):\n",
    "    gt *= i\n",
    "    Se += gt\n",
    "\n",
    "print(\"a) S = 1 + 2 + ... + n        =\", Sa)\n",
    "print(\"b) S = 1^2 + 2^2 + ... + n^2  =\", Sb)\n",
    "print(\"c) S = 1 + 1/2 + ... + 1/n    =\", Sc)\n",
    "print(\"d) S = n!                     =\", Sd)\n",
    "print(\"e) S = 1! + 2! + ... + n!     =\", Se)"
   ]
  },
  {
   "cell_type": "code",
   "execution_count": 4,
   "id": "ed3de115-a3e0-43d5-8c8c-1d2b54e9be5a",
   "metadata": {},
   "outputs": [
    {
     "name": "stdin",
     "output_type": "stream",
     "text": [
      "a =  7\n",
      "b =  5\n",
      "n =  8\n"
     ]
    },
    {
     "name": "stdout",
     "output_type": "stream",
     "text": [
      "\n",
      "=== Bài 3 ===\n",
      "input : a = 7 , b = 5 , n = 8\n",
      "output: 7\n"
     ]
    }
   ],
   "source": [
    "# ================== CẤU TRÚC LẶP — BÀI 3 ==================\n",
    "a = int(input(\"a = \"))\n",
    "b = int(input(\"b = \"))\n",
    "n = int(input(\"n = \"))\n",
    "\n",
    "print(\"\\n=== Bài 3 ===\")\n",
    "print(\"input : a =\", a, \", b =\", b, \", n =\", n)\n",
    "\n",
    "if n <= 0:\n",
    "    print(\"output: n phải > 0\")\n",
    "else:\n",
    "    S = 0\n",
    "    for x in range(1, n):\n",
    "        if x % a == 0 and x % b != 0:\n",
    "            S += x\n",
    "    print(\"output:\", S)"
   ]
  },
  {
   "cell_type": "code",
   "execution_count": 5,
   "id": "cf6638a5-536a-4510-8c06-cac0a16feb25",
   "metadata": {},
   "outputs": [
    {
     "name": "stdin",
     "output_type": "stream",
     "text": [
      "Nhập n (0 < n < 50):  10\n"
     ]
    },
    {
     "name": "stdout",
     "output_type": "stream",
     "text": [
      "\n",
      "=== Bài 4 ===\n",
      "input : 10\n",
      "các SNT < 10 : [2, 3, 5, 7]\n",
      "output (tổng) : 17\n"
     ]
    }
   ],
   "source": [
    "# ================== CẤU TRÚC LẶP — BÀI 4 ==================\n",
    "from math import isqrt\n",
    "\n",
    "def is_prime(n: int) -> bool:\n",
    "    if n < 2: return False\n",
    "    if n % 2 == 0: return n == 2\n",
    "    r = isqrt(n)\n",
    "    for i in range(3, r+1, 2):\n",
    "        if n % i == 0: return False\n",
    "    return True\n",
    "\n",
    "n = int(input(\"Nhập n (0 < n < 50): \"))\n",
    "print(\"\\n=== Bài 4 ===\")\n",
    "print(\"input :\", n)\n",
    "\n",
    "if not (0 < n < 50):\n",
    "    print(\"output: n không hợp lệ (yêu cầu 0 < n < 50)\")\n",
    "else:\n",
    "    primes = [x for x in range(2, n) if is_prime(x)]\n",
    "    print(\"các SNT <\", n, \":\", primes)\n",
    "    print(\"output (tổng) :\", sum(primes))"
   ]
  },
  {
   "cell_type": "code",
   "execution_count": 2,
   "id": "fe5405b3-3904-4d3d-87a3-fc7e2ec5b427",
   "metadata": {},
   "outputs": [
    {
     "name": "stdin",
     "output_type": "stream",
     "text": [
      "Nhập n (nguyên dương):  5784\n"
     ]
    },
    {
     "name": "stdout",
     "output_type": "stream",
     "text": [
      "\n",
      "=== Bài 5 ===\n",
      "input : 5784\n",
      "output: 4875\n"
     ]
    }
   ],
   "source": [
    "# ================== CẤU TRÚC LẶP — BÀI 5: Xuất số ngược lại ==================\n",
    "n = int(input(\"Nhập n (nguyên dương): \"))\n",
    "\n",
    "print(\"\\n=== Bài 5 ===\")\n",
    "print(\"input :\", n)\n",
    "\n",
    "if n <= 0:\n",
    "    print(\"output: n phải > 0\")\n",
    "else:\n",
    "    m = n\n",
    "    rev = 0\n",
    "    while m > 0:\n",
    "        rev = rev*10 + (m % 10)\n",
    "        m //= 10\n",
    "    print(\"output:\", rev)"
   ]
  },
  {
   "cell_type": "code",
   "execution_count": 3,
   "id": "6288127e-916c-4a76-9f81-da1e9675d9b4",
   "metadata": {},
   "outputs": [
    {
     "name": "stdout",
     "output_type": "stream",
     "text": [
      "\n",
      "=== Bài 6 ===\n",
      "input : phạm vi 10..99\n",
      "output: [36, 44, 63]\n"
     ]
    }
   ],
   "source": [
    "# ================== CẤU TRÚC LẶP — BÀI 6: Tìm số 2 chữ số thỏa a*b = 2*(a+b) ==================\n",
    "print(\"\\n=== Bài 6 ===\")\n",
    "res = []\n",
    "for x in range(10, 100):\n",
    "    a, b = divmod(x, 10)  # a: hàng chục, b: hàng đơn vị\n",
    "    if a * b == 2 * (a + b):\n",
    "        res.append(x)\n",
    "\n",
    "print(\"input : phạm vi 10..99\")\n",
    "print(\"output:\", res if res else \"không có số nào thỏa\")"
   ]
  },
  {
   "cell_type": "code",
   "execution_count": 4,
   "id": "184d9f8f-dd3a-4480-8f6c-2ef6d5d1bb7e",
   "metadata": {},
   "outputs": [
    {
     "name": "stdin",
     "output_type": "stream",
     "text": [
      "a =  6\n",
      "b =  8\n"
     ]
    },
    {
     "name": "stdout",
     "output_type": "stream",
     "text": [
      "\n",
      "=== Bài 7 ===\n",
      "input : a = 6 , b = 8\n",
      "output: 2\n"
     ]
    }
   ],
   "source": [
    "# ================== CẤU TRÚC LẶP — BÀI 7: Ước số chung lớn nhất (GCD) ==================\n",
    "a = int(input(\"a = \"))\n",
    "b = int(input(\"b = \"))\n",
    "\n",
    "print(\"\\n=== Bài 7 ===\")\n",
    "print(\"input : a =\", a, \", b =\", b)\n",
    "\n",
    "if a <= 0 or b <= 0:\n",
    "    print(\"output: a, b phải > 0\")\n",
    "else:\n",
    "    x, y = a, b\n",
    "    while y != 0:\n",
    "        x, y = y, x % y\n",
    "    print(\"output:\", x)  # x là GCD"
   ]
  },
  {
   "cell_type": "code",
   "execution_count": 5,
   "id": "03188a47-7f5f-4e3b-a1ed-600d9804a551",
   "metadata": {},
   "outputs": [
    {
     "name": "stdin",
     "output_type": "stream",
     "text": [
      "Nhập n (số lượng phần tử):  10\n"
     ]
    },
    {
     "name": "stdout",
     "output_type": "stream",
     "text": [
      "\n",
      "=== Bài 8 ===\n",
      "input : 10\n",
      "output: [1, 1, 2, 3, 5, 8, 13, 21, 34, 55]\n"
     ]
    }
   ],
   "source": [
    "# ================== CẤU TRÚC LẶP — BÀI 8: In n số Fibonacci đầu tiên (1,1,2,3,5,...) ==================\n",
    "n = int(input(\"Nhập n (số lượng phần tử): \"))\n",
    "\n",
    "print(\"\\n=== Bài 8 ===\")\n",
    "print(\"input :\", n)\n",
    "\n",
    "if n <= 0:\n",
    "    print(\"output: n phải > 0\")\n",
    "else:\n",
    "    fib = []\n",
    "    if n >= 1: fib.append(1)\n",
    "    if n >= 2: fib.append(1)\n",
    "    while len(fib) < n:\n",
    "        fib.append(fib[-1] + fib[-2])\n",
    "    print(\"output:\", fib)"
   ]
  },
  {
   "cell_type": "code",
   "execution_count": null,
   "id": "efd88fb1-0ef7-409e-9fd4-355007f6092e",
   "metadata": {},
   "outputs": [],
   "source": []
  }
 ],
 "metadata": {
  "kernelspec": {
   "display_name": "Python 3 (ipykernel)",
   "language": "python",
   "name": "python3"
  },
  "language_info": {
   "codemirror_mode": {
    "name": "ipython",
    "version": 3
   },
   "file_extension": ".py",
   "mimetype": "text/x-python",
   "name": "python",
   "nbconvert_exporter": "python",
   "pygments_lexer": "ipython3",
   "version": "3.12.1"
  }
 },
 "nbformat": 4,
 "nbformat_minor": 5
}
