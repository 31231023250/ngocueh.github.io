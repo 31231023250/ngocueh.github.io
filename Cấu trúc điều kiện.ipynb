{
 "cells": [
  {
   "cell_type": "code",
   "execution_count": 3,
   "id": "3301bb22-05ac-4151-b8ce-e2b0c0fe7ba9",
   "metadata": {},
   "outputs": [
    {
     "name": "stdin",
     "output_type": "stream",
     "text": [
      "Nhập số nguyên 1..9:  9\n"
     ]
    },
    {
     "name": "stdout",
     "output_type": "stream",
     "text": [
      "\n",
      "=== Bài 1 ===\n",
      "input : 9\n",
      "output: chín\n"
     ]
    }
   ],
   "source": [
    "# ================== BÀI 1: Đọc số nguyên 1..9 ==================\n",
    "n = int(input(\"Nhập số nguyên 1..9: \"))\n",
    "print(\"\\n=== Bài 1 ===\")\n",
    "print(\"input :\", n)\n",
    "tu = {1:\"một\",2:\"hai\",3:\"ba\",4:\"bốn\",5:\"năm\",6:\"sáu\",7:\"bảy\",8:\"tám\",9:\"chín\"}\n",
    "print(\"output:\", tu.get(n, \"không đọc được\"))"
   ]
  },
  {
   "cell_type": "code",
   "execution_count": 4,
   "id": "024fce59-dcc7-4d6d-8a93-0a6bc091a964",
   "metadata": {},
   "outputs": [
    {
     "name": "stdin",
     "output_type": "stream",
     "text": [
      "Nhập 1 chữ cái:  a\n"
     ]
    },
    {
     "name": "stdout",
     "output_type": "stream",
     "text": [
      "\n",
      "=== Bài 2 ===\n",
      "input : 'a'\n",
      "output: A\n"
     ]
    }
   ],
   "source": [
    "# ================== BÀI 2: Đổi chữ thường <-> chữ hoa ==================\n",
    "c = input(\"Nhập 1 chữ cái: \").strip()\n",
    "print(\"\\n=== Bài 2 ===\")\n",
    "print(\"input :\", repr(c))\n",
    "if len(c) != 1 or not c.isalpha():\n",
    "    print(\"output:\", \"không phải chữ cái (hãy nhập đúng 1 chữ)\")\n",
    "else:\n",
    "    out = c.upper() if c.islower() else c.lower()\n",
    "    print(\"output:\", out)"
   ]
  },
  {
   "cell_type": "code",
   "execution_count": 5,
   "id": "ddcefb1f-8995-4df4-a3d1-51d76b957aad",
   "metadata": {},
   "outputs": [
    {
     "name": "stdin",
     "output_type": "stream",
     "text": [
      "a =  5\n",
      "b =  10\n"
     ]
    },
    {
     "name": "stdout",
     "output_type": "stream",
     "text": [
      "\n",
      "=== Bài 3 ===\n",
      "input : a = 5.0 , b = 10.0\n",
      "output: x = -2.0\n"
     ]
    }
   ],
   "source": [
    "# ================== BÀI 3: Giải phương trình bậc nhất ax + b = 0 ==================\n",
    "a = float(input(\"a = \"))\n",
    "b = float(input(\"b = \"))\n",
    "print(\"\\n=== Bài 3 ===\")\n",
    "print(\"input : a =\", a, \", b =\", b)\n",
    "if a == 0 and b == 0:\n",
    "    print(\"output:\", \"vô số nghiệm\")\n",
    "elif a == 0:\n",
    "    print(\"output:\", \"vô nghiệm\")\n",
    "else:\n",
    "    print(\"output:\", \"x =\", -b/a)"
   ]
  },
  {
   "cell_type": "code",
   "execution_count": 7,
   "id": "d68da8f2-db4e-4f97-82b7-4e264b8ecbe3",
   "metadata": {},
   "outputs": [
    {
     "name": "stdin",
     "output_type": "stream",
     "text": [
      "a =  8\n",
      "b =  3\n",
      "c =  10\n"
     ]
    },
    {
     "name": "stdout",
     "output_type": "stream",
     "text": [
      "\n",
      "=== Bài 4 ===\n",
      "input : a = 8.0 , b = 3.0 , c = 10.0\n",
      "output: vô nghiệm (ℝ)\n"
     ]
    }
   ],
   "source": [
    "# ================== BÀI 4: Giải phương trình bậc hai ax^2 + bx + c = 0 ==================\n",
    "from math import sqrt\n",
    "a = float(input(\"a = \"))\n",
    "b = float(input(\"b = \"))\n",
    "c = float(input(\"c = \"))\n",
    "print(\"\\n=== Bài 4 ===\")\n",
    "print(\"input : a =\", a, \", b =\", b, \", c =\", c)\n",
    "if a == 0:\n",
    "    # rơi về bậc nhất: b*x + c = 0\n",
    "    if b == 0 and c == 0:\n",
    "        print(\"output:\", \"vô số nghiệm\")\n",
    "    elif b == 0:\n",
    "        print(\"output:\", \"vô nghiệm\")\n",
    "    else:\n",
    "        print(\"output:\", \"x =\", -c/b)\n",
    "else:\n",
    "    d = b*b - 4*a*c\n",
    "    if d > 0:\n",
    "        x1 = (-b + sqrt(d))/(2*a)\n",
    "        x2 = (-b - sqrt(d))/(2*a)\n",
    "        print(\"output:\", f\"x1 = {x1}, x2 = {x2}\")\n",
    "    elif d == 0:\n",
    "        print(\"output:\", \"x =\", -b/(2*a))\n",
    "    else:\n",
    "        print(\"output:\", \"vô nghiệm (ℝ)\")"
   ]
  },
  {
   "cell_type": "code",
   "execution_count": 8,
   "id": "a40997af-6ed7-41ee-8cb8-b25ae127d111",
   "metadata": {},
   "outputs": [
    {
     "name": "stdin",
     "output_type": "stream",
     "text": [
      "a =  55\n",
      "b =  60\n",
      "c =  35\n",
      "d =  66\n"
     ]
    },
    {
     "name": "stdout",
     "output_type": "stream",
     "text": [
      "\n",
      "=== Bài 5 ===\n",
      "input : 55 60 35 66\n",
      "output: 35\n"
     ]
    }
   ],
   "source": [
    "# ================== BÀI 5: Tìm số nhỏ nhất trong 4 số ==================\n",
    "a = int(input(\"a = \"))\n",
    "b = int(input(\"b = \"))\n",
    "c = int(input(\"c = \"))\n",
    "d = int(input(\"d = \"))\n",
    "print(\"\\n=== Bài 5 ===\")\n",
    "print(\"input :\", a, b, c, d)\n",
    "m = a\n",
    "if b < m: m = b\n",
    "if c < m: m = c\n",
    "if d < m: m = d\n",
    "print(\"output:\", m)"
   ]
  },
  {
   "cell_type": "code",
   "execution_count": 10,
   "id": "52004dd7-b403-40f6-8bba-9c4e81172470",
   "metadata": {},
   "outputs": [
    {
     "name": "stdin",
     "output_type": "stream",
     "text": [
      "a =  5\n",
      "b =  4\n",
      "c =  6\n",
      "d =  8\n"
     ]
    },
    {
     "name": "stdout",
     "output_type": "stream",
     "text": [
      "\n",
      "=== Bài 6 ===\n",
      "input : 5 4 6 8\n",
      "output: [4, 5, 6, 8]\n"
     ]
    }
   ],
   "source": [
    "# ================== BÀI 6: Sắp xếp 4 số theo thứ tự tăng dần ==================\n",
    "a = int(input(\"a = \"))\n",
    "b = int(input(\"b = \"))\n",
    "c = int(input(\"c = \"))\n",
    "d = int(input(\"d = \"))\n",
    "print(\"\\n=== Bài 6 ===\")\n",
    "print(\"input :\", a, b, c, d)\n",
    "print(\"output:\", sorted([a, b, c, d]))"
   ]
  },
  {
   "cell_type": "code",
   "execution_count": 11,
   "id": "b949c1f5-826f-4652-9190-de78ac9428c9",
   "metadata": {},
   "outputs": [
    {
     "name": "stdin",
     "output_type": "stream",
     "text": [
      "Nhập số km đi được:  50\n"
     ]
    },
    {
     "name": "stdout",
     "output_type": "stream",
     "text": [
      "\n",
      "=== Bài 7 ===\n",
      "input  : km = 50.0\n",
      "output : 564.000 đ\n"
     ]
    }
   ],
   "source": [
    "# ================== BÀI 7: Tính tiền taxi theo số km ==================\n",
    "# 1km đầu: 15000đ; km 2..5: 13500đ/km; từ km 6: 11000đ/km; >120km giảm 10% tổng tiền.\n",
    "\n",
    "km = float(input(\"Nhập số km đi được: \"))\n",
    "\n",
    "print(\"\\n=== Bài 7 ===\")\n",
    "print(\"input  : km =\", km)\n",
    "\n",
    "if km <= 0:\n",
    "    print(\"output : số km không hợp lệ\")\n",
    "else:\n",
    "    d1 = min(km, 1.0)\n",
    "    d2 = min(max(km - 1.0, 0.0), 4.0)   # từ km thứ 2 đến km thứ 5 (4 km)\n",
    "    d3 = max(km - 5.0, 0.0)            # từ km thứ 6 trở đi\n",
    "\n",
    "    cost = d1*15000 + d2*13500 + d3*11000\n",
    "    if km > 120:\n",
    "        cost *= 0.9                   # giảm 10%\n",
    "\n",
    "    money = f\"{cost:,.0f}\".replace(\",\", \".\") + \" đ\"\n",
    "    print(\"output :\", money)"
   ]
  },
  {
   "cell_type": "code",
   "execution_count": 13,
   "id": "fb5fafc7-990f-43e2-849e-ec28e7065c31",
   "metadata": {},
   "outputs": [
    {
     "name": "stdin",
     "output_type": "stream",
     "text": [
      "Nhập tháng (1..12):  7\n",
      "Nhập năm:  2025\n"
     ]
    },
    {
     "name": "stdout",
     "output_type": "stream",
     "text": [
      "\n",
      "=== Bài 8 ===\n",
      "input  : tháng = 7 , năm = 2025\n",
      "output : 31 ngày\n"
     ]
    }
   ],
   "source": [
    "# ================== BÀI 8: Số ngày trong tháng ==================\n",
    "m = int(input(\"Nhập tháng (1..12): \"))\n",
    "y = int(input(\"Nhập năm: \"))\n",
    "\n",
    "print(\"\\n=== Bài 8 ===\")\n",
    "print(\"input  : tháng =\", m, \", năm =\", y)\n",
    "\n",
    "def is_leap(year: int) -> bool:\n",
    "    return (year % 400 == 0) or (year % 4 == 0 and year % 100 != 0)\n",
    "\n",
    "if not (1 <= m <= 12) or y <= 0:\n",
    "    print(\"output : dữ liệu không hợp lệ\")\n",
    "else:\n",
    "    if m in (1,3,5,7,8,10,12):\n",
    "        d = 31\n",
    "    elif m in (4,6,9,11):\n",
    "        d = 30\n",
    "    else:  # tháng 2\n",
    "        d = 29 if is_leap(y) else 28\n",
    "    print(\"output :\", d, \"ngày\")"
   ]
  },
  {
   "cell_type": "code",
   "execution_count": 14,
   "id": "451ba7be-3586-430a-a4be-ff4b49edca31",
   "metadata": {},
   "outputs": [
    {
     "name": "stdin",
     "output_type": "stream",
     "text": [
      "Cạnh a =  10\n",
      "Cạnh b =  5\n",
      "Cạnh c =  7\n"
     ]
    },
    {
     "name": "stdout",
     "output_type": "stream",
     "text": [
      "\n",
      "=== Bài 9 ===\n",
      "input  : a = 10.0 , b = 5.0 , c = 7.0\n",
      "output : tam giác thường\n"
     ]
    }
   ],
   "source": [
    "# ================== BÀI 9: Phân loại tam giác theo 3 cạnh ==================\n",
    "a = float(input(\"Cạnh a = \"))\n",
    "b = float(input(\"Cạnh b = \"))\n",
    "c = float(input(\"Cạnh c = \"))\n",
    "\n",
    "print(\"\\n=== Bài 9 ===\")\n",
    "print(\"input  : a =\", a, \", b =\", b, \", c =\", c)\n",
    "\n",
    "eps = 1e-9\n",
    "def almost_eq(x, y): return abs(x - y) <= eps\n",
    "\n",
    "# điều kiện tồn tại tam giác\n",
    "if a <= 0 or b <= 0 or c <= 0 or (a + b <= c) or (a + c <= b) or (b + c <= a):\n",
    "    print(\"output : không phải tam giác\")\n",
    "else:\n",
    "    # sắp xếp để kiểm tra vuông: x <= y <= z\n",
    "    x, y, z = sorted([a, b, c])\n",
    "    right = almost_eq(x*x + y*y, z*z)\n",
    "    deu   = almost_eq(a, b) and almost_eq(b, c)\n",
    "    can   = almost_eq(a, b) or almost_eq(b, c) or almost_eq(a, c)\n",
    "\n",
    "    if deu:\n",
    "        loai = \"tam giác đều\"\n",
    "    elif right and can:\n",
    "        loai = \"tam giác vuông cân\"\n",
    "    elif right:\n",
    "        loai = \"tam giác vuông\"\n",
    "    elif can:\n",
    "        loai = \"tam giác cân\"\n",
    "    else:\n",
    "        loai = \"tam giác thường\"\n",
    "\n",
    "    print(\"output :\", loai)"
   ]
  },
  {
   "cell_type": "code",
   "execution_count": null,
   "id": "c4b6f409-b592-476f-a99e-5140bb77e4ff",
   "metadata": {},
   "outputs": [],
   "source": []
  }
 ],
 "metadata": {
  "kernelspec": {
   "display_name": "Python 3 (ipykernel)",
   "language": "python",
   "name": "python3"
  },
  "language_info": {
   "codemirror_mode": {
    "name": "ipython",
    "version": 3
   },
   "file_extension": ".py",
   "mimetype": "text/x-python",
   "name": "python",
   "nbconvert_exporter": "python",
   "pygments_lexer": "ipython3",
   "version": "3.12.1"
  }
 },
 "nbformat": 4,
 "nbformat_minor": 5
}
