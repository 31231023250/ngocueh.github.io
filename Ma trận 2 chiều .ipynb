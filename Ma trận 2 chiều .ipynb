{
 "cells": [
  {
   "cell_type": "code",
   "execution_count": 4,
   "id": "547f9bfd-e642-4e19-a8d4-f1360a59a2fc",
   "metadata": {},
   "outputs": [
    {
     "name": "stdin",
     "output_type": "stream",
     "text": [
      "Nhập n m:  2 3\n"
     ]
    },
    {
     "name": "stdout",
     "output_type": "stream",
     "text": [
      "Nhập 2 dòng, mỗi dòng 3 số nguyên, cách nhau bằng khoảng trắng:\n"
     ]
    },
    {
     "name": "stdin",
     "output_type": "stream",
     "text": [
      " 4 5 6\n",
      " 7 8 9\n"
     ]
    },
    {
     "name": "stdout",
     "output_type": "stream",
     "text": [
      "\n",
      "=== Bài 1 ===\n",
      "Array A:\n",
      "4 5 6\n",
      "7 8 9\n"
     ]
    }
   ],
   "source": [
    "# ================== MA TRẬN 2C — BÀI 1: Nhập & xuất ma trận số nguyên ==================\n",
    "n, m = map(int, input(\"Nhập n m: \").split())\n",
    "\n",
    "A = []\n",
    "print(f\"Nhập {n} dòng, mỗi dòng {m} số nguyên, cách nhau bằng khoảng trắng:\")\n",
    "for i in range(n):\n",
    "    row = list(map(int, input().split()))\n",
    "    while len(row) != m:  # bảo đảm đúng m phần tử\n",
    "        row = list(map(int, input(f\"Dòng {i+1} chưa đủ {m} số, nhập lại: \").split()))\n",
    "    A.append(row)\n",
    "\n",
    "print(\"\\n=== Bài 1 ===\")\n",
    "print(\"Array A:\")\n",
    "for r in A:\n",
    "    print(*r)"
   ]
  },
  {
   "cell_type": "code",
   "execution_count": 6,
   "id": "9e0b2bdd-df8e-40cb-ae12-07aeb8c399df",
   "metadata": {},
   "outputs": [
    {
     "name": "stdin",
     "output_type": "stream",
     "text": [
      "Nhập n m:  3 4\n"
     ]
    },
    {
     "name": "stdout",
     "output_type": "stream",
     "text": [
      "Nhập 3 dòng, mỗi dòng 4 số thực:\n"
     ]
    },
    {
     "name": "stdin",
     "output_type": "stream",
     "text": [
      " 3 7 8 9\n",
      " 5 1 3 7\n",
      " 1 2 3 4 \n"
     ]
    },
    {
     "name": "stdout",
     "output_type": "stream",
     "text": [
      "\n",
      "=== Bài 2 ===\n",
      "Trung bình cộng các số dương: 4.417\n"
     ]
    }
   ],
   "source": [
    "# ================== MA TRẬN 2C — BÀI 2: Trung bình cộng các số dương ==================\n",
    "n, m = map(int, input(\"Nhập n m: \").split())\n",
    "\n",
    "A = []\n",
    "print(f\"Nhập {n} dòng, mỗi dòng {m} số thực:\")\n",
    "for i in range(n):\n",
    "    row = list(map(float, input().split()))\n",
    "    while len(row) != m:\n",
    "        row = list(map(float, input(f\"Dòng {i+1} chưa đủ {m} số, nhập lại: \").split()))\n",
    "    A.append(row)\n",
    "\n",
    "s = 0.0\n",
    "cnt = 0\n",
    "for r in A:\n",
    "    for x in r:\n",
    "        if x > 0:\n",
    "            s += x\n",
    "            cnt += 1\n",
    "\n",
    "print(\"\\n=== Bài 2 ===\")\n",
    "if cnt == 0:\n",
    "    print(\"Trung bình cộng các số dương: không có số dương.\")\n",
    "else:\n",
    "    print(f\"Trung bình cộng các số dương: {s/cnt:.3f}\")"
   ]
  },
  {
   "cell_type": "code",
   "execution_count": 7,
   "id": "d5bc9d61-f3cc-4e6d-af0a-54ef9a753da2",
   "metadata": {},
   "outputs": [
    {
     "name": "stdin",
     "output_type": "stream",
     "text": [
      "Nhập n m:  2 3\n"
     ]
    },
    {
     "name": "stdout",
     "output_type": "stream",
     "text": [
      "Nhập 2 dòng, mỗi dòng 3 số nguyên:\n"
     ]
    },
    {
     "name": "stdin",
     "output_type": "stream",
     "text": [
      " 10 15 20\n",
      " 20 35 30 \n"
     ]
    },
    {
     "name": "stdout",
     "output_type": "stream",
     "text": [
      "\n",
      "=== Bài 3 ===\n",
      "Mang A khong toan chan!\n"
     ]
    }
   ],
   "source": [
    "# ================== MA TRẬN 2C — BÀI 3: Ma trận toàn chẵn? ==================\n",
    "n, m = map(int, input(\"Nhập n m: \").split())\n",
    "\n",
    "A = []\n",
    "print(f\"Nhập {n} dòng, mỗi dòng {m} số nguyên:\")\n",
    "for i in range(n):\n",
    "    row = list(map(int, input().split()))\n",
    "    while len(row) != m:\n",
    "        row = list(map(int, input(f\"Dòng {i+1} chưa đủ {m} số, nhập lại: \").split()))\n",
    "    A.append(row)\n",
    "\n",
    "all_even = all(x % 2 == 0 for r in A for x in r)\n",
    "\n",
    "print(\"\\n=== Bài 3 ===\")\n",
    "print(\"Mang A toan chan!\" if all_even else \"Mang A khong toan chan!\")"
   ]
  },
  {
   "cell_type": "code",
   "execution_count": 8,
   "id": "2dc4b657-5858-4729-8da0-0c11fd57fa1b",
   "metadata": {},
   "outputs": [
    {
     "name": "stdin",
     "output_type": "stream",
     "text": [
      "Nhập n m:  2 3\n"
     ]
    },
    {
     "name": "stdout",
     "output_type": "stream",
     "text": [
      "Nhập 2 dòng, mỗi dòng 3 ký tự (cách nhau bằng khoảng trắng):\n"
     ]
    },
    {
     "name": "stdin",
     "output_type": "stream",
     "text": [
      " h k i\n",
      " j l g\n"
     ]
    },
    {
     "name": "stdout",
     "output_type": "stream",
     "text": [
      "\n",
      "=== Bài 4 ===\n",
      "Dong 1 co nhieu nguyen am nhat voi so luong nguyen am la 1.\n"
     ]
    }
   ],
   "source": [
    "# ================== MA TRẬN 2C — BÀI 4: Dòng có nhiều nguyên âm nhất ==================\n",
    "n, m = map(int, input(\"Nhập n m: \").split())\n",
    "\n",
    "A = []\n",
    "print(f\"Nhập {n} dòng, mỗi dòng {m} ký tự (cách nhau bằng khoảng trắng):\")\n",
    "for i in range(n):\n",
    "    row = input().split()\n",
    "    while len(row) != m:\n",
    "        row = input(f\"Dòng {i+1} chưa đủ {m} ký tự, nhập lại: \").split()\n",
    "    A.append(row)\n",
    "\n",
    "vowels = set(\"aeiouAEIOU\")\n",
    "best_row = 0\n",
    "best_cnt = -1\n",
    "for i, r in enumerate(A):\n",
    "    c = sum(1 for ch in r if ch in vowels)\n",
    "    if c > best_cnt:\n",
    "        best_cnt = c\n",
    "        best_row = i\n",
    "\n",
    "print(\"\\n=== Bài 4 ===\")\n",
    "print(f\"Dong {best_row+1} co nhieu nguyen am nhat voi so luong nguyen am la {best_cnt}.\")"
   ]
  },
  {
   "cell_type": "code",
   "execution_count": 9,
   "id": "360be97b-795a-4a58-9424-311bca509bf5",
   "metadata": {},
   "outputs": [
    {
     "name": "stdin",
     "output_type": "stream",
     "text": [
      "Nhập n m:  2 3\n"
     ]
    },
    {
     "name": "stdout",
     "output_type": "stream",
     "text": [
      "Nhập 2 dòng, mỗi dòng 3 số nguyên:\n"
     ]
    },
    {
     "name": "stdin",
     "output_type": "stream",
     "text": [
      " 7 8 9 \n",
      " 10 11 12\n"
     ]
    },
    {
     "name": "stdout",
     "output_type": "stream",
     "text": [
      "\n",
      "=== Bài 5 ===\n",
      "Cac cot nhieu nguyen to nhat: 0 1\n"
     ]
    }
   ],
   "source": [
    "# ================== MA TRẬN 2C — BÀI 5: Cột có nhiều số nguyên tố nhất ==================\n",
    "from math import isqrt\n",
    "\n",
    "def is_prime(x: int) -> bool:\n",
    "    if x < 2: \n",
    "        return False\n",
    "    if x in (2, 3): \n",
    "        return True\n",
    "    if x % 2 == 0: \n",
    "        return False\n",
    "    lim = isqrt(x)\n",
    "    for d in range(3, lim+1, 2):\n",
    "        if x % d == 0:\n",
    "            return False\n",
    "    return True\n",
    "\n",
    "n, m = map(int, input(\"Nhập n m: \").split())\n",
    "\n",
    "A = []\n",
    "print(f\"Nhập {n} dòng, mỗi dòng {m} số nguyên:\")\n",
    "for i in range(n):\n",
    "    row = list(map(int, input().split()))\n",
    "    while len(row) != m:\n",
    "        row = list(map(int, input(f\"Dòng {i+1} chưa đủ {m} số, nhập lại: \").split()))\n",
    "    A.append(row)\n",
    "\n",
    "# đếm số nguyên tố theo cột\n",
    "col_cnt = [0]*m\n",
    "for j in range(m):\n",
    "    for i in range(n):\n",
    "        if is_prime(A[i][j]):\n",
    "            col_cnt[j] += 1\n",
    "\n",
    "max_cnt = max(col_cnt) if m > 0 else 0\n",
    "cols = [j for j, c in enumerate(col_cnt) if c == max_cnt]\n",
    "\n",
    "print(\"\\n=== Bài 5 ===\")\n",
    "if max_cnt == 0:\n",
    "    print(\"Không có số nguyên tố nào trong các cột.\")\n",
    "else:\n",
    "    print(\"Cac cot nhieu nguyen to nhat:\", *cols)"
   ]
  }
 ],
 "metadata": {
  "kernelspec": {
   "display_name": "Python 3 (ipykernel)",
   "language": "python",
   "name": "python3"
  },
  "language_info": {
   "codemirror_mode": {
    "name": "ipython",
    "version": 3
   },
   "file_extension": ".py",
   "mimetype": "text/x-python",
   "name": "python",
   "nbconvert_exporter": "python",
   "pygments_lexer": "ipython3",
   "version": "3.12.1"
  }
 },
 "nbformat": 4,
 "nbformat_minor": 5
}
