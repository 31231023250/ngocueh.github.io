{
 "cells": [
  {
   "cell_type": "code",
   "execution_count": 1,
   "id": "6c9c2f83-5c21-49ab-9e5f-782c8d4999e3",
   "metadata": {},
   "outputs": [
    {
     "name": "stdin",
     "output_type": "stream",
     "text": [
      "Nhập vào số nguyên:  29\n"
     ]
    },
    {
     "name": "stdout",
     "output_type": "stream",
     "text": [
      "29 là số nguyên tố\n"
     ]
    }
   ],
   "source": [
    "from math import isqrt\n",
    "\n",
    "def is_prime(n: int) -> bool:\n",
    "    if n < 2:\n",
    "        return False\n",
    "    if n % 2 == 0:\n",
    "        return n == 2\n",
    "    limit = isqrt(n)\n",
    "    for i in range(3, limit + 1, 2):\n",
    "        if n % i == 0:\n",
    "            return False\n",
    "    return True\n",
    "\n",
    "# nhập và in kết quả\n",
    "try:\n",
    "    a = int(input(\"Nhập vào số nguyên: \"))\n",
    "    print(f\"{a} là số nguyên tố\" if is_prime(a) else f\"{a} không là số nguyên tố\")\n",
    "except ValueError:\n",
    "    print(\"Bạn phải nhập 1 số nguyên!\")\n"
   ]
  },
  {
   "cell_type": "code",
   "execution_count": 7,
   "id": "a5a0f4b5-605f-4eca-a72c-1d841f79d01f",
   "metadata": {},
   "outputs": [
    {
     "name": "stdout",
     "output_type": "stream",
     "text": [
      "1a) Các SNT < N:\n",
      "2 3 5 7 11 13 17 19 23 29 31 37 41 43 47\n",
      "\n",
      "1b) M số nguyên tố đầu tiên:\n",
      "2 3 5 7 11 13 17 19 23 29\n"
     ]
    },
    {
     "data": {
      "text/plain": [
       "[2, 3, 5, 7, 11, 13, 17, 19, 23, 29]"
      ]
     },
     "execution_count": 7,
     "metadata": {},
     "output_type": "execute_result"
    }
   ],
   "source": [
    "from math import isqrt\n",
    "\n",
    "# ===== Hàm kiểm tra số nguyên tố =====\n",
    "def is_prime(n: int) -> bool:\n",
    "    if n < 2:\n",
    "        return False\n",
    "    if n % 2 == 0:\n",
    "        return n == 2\n",
    "    limit = isqrt(n)\n",
    "    for i in range(3, limit + 1, 2):\n",
    "        if n % i == 0:\n",
    "            return False\n",
    "    return True\n",
    "\n",
    "# ===== 1a) Liệt kê các SNT < N =====\n",
    "def lietkesnt(N: int):\n",
    "    \"\"\"In ra & trả về danh sách các số nguyên tố nhỏ hơn N\"\"\"\n",
    "    if N <= 2:\n",
    "        print(\"khong co so nguyen to thoa yeu cau\")\n",
    "        return []\n",
    "    res = [i for i in range(2, N) if is_prime(i)]\n",
    "    print(*res)\n",
    "    return res\n",
    "\n",
    "# ===== 1b) In ra M số nguyên tố đầu tiên =====\n",
    "def lietkeMsnt(M: int):\n",
    "    \"\"\"In ra & trả về M số nguyên tố đầu tiên\"\"\"\n",
    "    if M <= 0:\n",
    "        print(\"M phai > 0\")\n",
    "        return []\n",
    "    res = []\n",
    "    x = 2\n",
    "    while len(res) < M:\n",
    "        if is_prime(x):\n",
    "            res.append(x)\n",
    "        x += 1 if x == 2 else 2  # sau 2 thì chỉ xét số lẻ\n",
    "    print(*res)\n",
    "    return res\n",
    "\n",
    "# ======= GỌI HÀM (không cần nhập) =======\n",
    "N = 50   # đổi số tùy ý cho 1a\n",
    "M = 10   # đổi số tùy ý cho 1b\n",
    "\n",
    "print(\"1a) Các SNT < N:\")\n",
    "lietkesnt(N)\n",
    "\n",
    "print(\"\\n1b) M số nguyên tố đầu tiên:\")\n",
    "lietkeMsnt(M)\n",
    "\n",
    "# Nếu muốn nhập lúc chạy, bỏ comment 4 dòng dưới:\n",
    "# N = int(input(\"\\nNhap N: \"))\n",
    "# lietkesnt(N)\n",
    "# M = int(input(\"\\nNhap M: \"))\n",
    "# lietkeMsnt(M)\n"
   ]
  },
  {
   "cell_type": "code",
   "execution_count": 8,
   "id": "ef7c8e56-365c-46f0-bb99-4842656aedf6",
   "metadata": {},
   "outputs": [
    {
     "name": "stdout",
     "output_type": "stream",
     "text": [
      "2) So chan trong (M,N):\n",
      "12 14 16 18 20 22 24 26 28\n"
     ]
    },
    {
     "data": {
      "text/plain": [
       "[12, 14, 16, 18, 20, 22, 24, 26, 28]"
      ]
     },
     "execution_count": 8,
     "metadata": {},
     "output_type": "execute_result"
    }
   ],
   "source": [
    "def in_so_chan(M: int, N: int):\n",
    "    \"\"\"In & trả về các số chẵn trong khoảng (M, N) — không gồm M,N.\"\"\"\n",
    "    if M >= N - 1:\n",
    "        print(\"khong co so trong khoang (M,N)\")\n",
    "        return []\n",
    "    res = [i for i in range(M + 1, N) if i % 2 == 0]\n",
    "    print(*res)\n",
    "    return res\n",
    "\n",
    "# GỌI HÀM (không cần nhập)\n",
    "M, N = 10, 30\n",
    "print(\"2) So chan trong (M,N):\")\n",
    "in_so_chan(M, N)\n",
    "\n",
    "# Nếu muốn nhập lúc chạy, bỏ comment 3 dòng dưới:\n",
    "# M = int(input(\"Nhap can duoi M: \"))\n",
    "# N = int(input(\"Nhap can tren N: \"))\n",
    "# in_so_chan(M, N)"
   ]
  },
  {
   "cell_type": "code",
   "execution_count": 9,
   "id": "acdd03e5-94ba-4781-8206-1ed04d55286a",
   "metadata": {},
   "outputs": [
    {
     "name": "stdout",
     "output_type": "stream",
     "text": [
      "2-a) Chia het 7 khong chia het 5 trong [99,999]:\n",
      "112 119 126 133 147 154 161 168 182 189 196 203 217 224 231 238 252 259 266 273 287 294 301 308 322 329 336 343 357 364 371 378 392 399 406 413 427 434 441 448 462 469 476 483 497 504 511 518 532 539 546 553 567 574 581 588 602 609 616 623 637 644 651 658 672 679 686 693 707 714 721 728 742 749 756 763 777 784 791 798 812 819 826 833 847 854 861 868 882 889 896 903 917 924 931 938 952 959 966 973 987 994\n"
     ]
    },
    {
     "data": {
      "text/plain": [
       "[112,\n",
       " 119,\n",
       " 126,\n",
       " 133,\n",
       " 147,\n",
       " 154,\n",
       " 161,\n",
       " 168,\n",
       " 182,\n",
       " 189,\n",
       " 196,\n",
       " 203,\n",
       " 217,\n",
       " 224,\n",
       " 231,\n",
       " 238,\n",
       " 252,\n",
       " 259,\n",
       " 266,\n",
       " 273,\n",
       " 287,\n",
       " 294,\n",
       " 301,\n",
       " 308,\n",
       " 322,\n",
       " 329,\n",
       " 336,\n",
       " 343,\n",
       " 357,\n",
       " 364,\n",
       " 371,\n",
       " 378,\n",
       " 392,\n",
       " 399,\n",
       " 406,\n",
       " 413,\n",
       " 427,\n",
       " 434,\n",
       " 441,\n",
       " 448,\n",
       " 462,\n",
       " 469,\n",
       " 476,\n",
       " 483,\n",
       " 497,\n",
       " 504,\n",
       " 511,\n",
       " 518,\n",
       " 532,\n",
       " 539,\n",
       " 546,\n",
       " 553,\n",
       " 567,\n",
       " 574,\n",
       " 581,\n",
       " 588,\n",
       " 602,\n",
       " 609,\n",
       " 616,\n",
       " 623,\n",
       " 637,\n",
       " 644,\n",
       " 651,\n",
       " 658,\n",
       " 672,\n",
       " 679,\n",
       " 686,\n",
       " 693,\n",
       " 707,\n",
       " 714,\n",
       " 721,\n",
       " 728,\n",
       " 742,\n",
       " 749,\n",
       " 756,\n",
       " 763,\n",
       " 777,\n",
       " 784,\n",
       " 791,\n",
       " 798,\n",
       " 812,\n",
       " 819,\n",
       " 826,\n",
       " 833,\n",
       " 847,\n",
       " 854,\n",
       " 861,\n",
       " 868,\n",
       " 882,\n",
       " 889,\n",
       " 896,\n",
       " 903,\n",
       " 917,\n",
       " 924,\n",
       " 931,\n",
       " 938,\n",
       " 952,\n",
       " 959,\n",
       " 966,\n",
       " 973,\n",
       " 987,\n",
       " 994]"
      ]
     },
     "execution_count": 9,
     "metadata": {},
     "output_type": "execute_result"
    }
   ],
   "source": [
    "def chia7_khong5(M: int, N: int):\n",
    "    \"\"\"In & trả về mọi số trong [M,N] chia hết 7 nhưng không chia hết 5.\"\"\"\n",
    "    if M > N:\n",
    "        M, N = N, M\n",
    "    res = [i for i in range(M, N + 1) if (i % 7 == 0) and (i % 5 != 0)]\n",
    "    print(*res)\n",
    "    return res\n",
    "\n",
    "print(\"2-a) Chia het 7 khong chia het 5 trong [99,999]:\")\n",
    "chia7_khong5(99, 999)\n"
   ]
  },
  {
   "cell_type": "code",
   "execution_count": 11,
   "id": "06871392-e9f7-4775-a795-d123ffea3010",
   "metadata": {},
   "outputs": [
    {
     "name": "stdout",
     "output_type": "stream",
     "text": [
      "2-b) So dau tien chia het 9 va 7 trong [M,N]: 126\n"
     ]
    }
   ],
   "source": [
    "def dau_tien_9_va_7(M: int, N: int):\n",
    "    \"\"\"Trả về số đầu tiên trong [M,N] chia hết cho 9 và 7, không có thì trả -1.\"\"\"\n",
    "    if M > N:\n",
    "        M, N = N, M\n",
    "    for i in range(M, N + 1):\n",
    "        if (i % 9 == 0) and (i % 7 == 0):\n",
    "            return i\n",
    "    return -1\n",
    "\n",
    "M, N = 64, 300\n",
    "x = dau_tien_9_va_7(M, N)\n",
    "print(\"2-b) So dau tien chia het 9 va 7 trong [M,N]:\", x if x != -1 else \"khong co so thoa dieu kien\")\n"
   ]
  },
  {
   "cell_type": "code",
   "execution_count": 12,
   "id": "0baf9b55-3076-4a52-af6a-e86ed29de1c6",
   "metadata": {},
   "outputs": [
    {
     "name": "stdout",
     "output_type": "stream",
     "text": [
      "TH3) so: 12345, so luong chu so: 5, tong cac chu so: 15\n"
     ]
    }
   ],
   "source": [
    "def dem_va_tong_chu_so(n: int):\n",
    "    \"\"\"Trả về (tong_chu_so, so_luong_chu_so) theo cách chia lấy dư.\"\"\"\n",
    "    x = abs(n)\n",
    "    if x == 0:\n",
    "        return (0, 1)\n",
    "    tong = 0\n",
    "    dem  = 0\n",
    "    while x > 0:\n",
    "        sodu = x % 10\n",
    "        tong += sodu\n",
    "        dem  += 1\n",
    "        x   //= 10\n",
    "    return (tong, dem)\n",
    "\n",
    "a = 12345\n",
    "tong, sochuso = dem_va_tong_chu_so(a)\n",
    "print(f\"TH3) so: {a}, so luong chu so: {sochuso}, tong cac chu so: {tong}\")\n",
    "\n",
    "# Nhập khi cần:\n",
    "# a = int(input(\"Nhap n: \"))\n",
    "# tong, sochuso = dem_va_tong_chu_so(a)\n",
    "# print(\"so luong chu so:\", sochuso)\n",
    "# print(\"tong cac chu so:\", tong)\n"
   ]
  },
  {
   "cell_type": "code",
   "execution_count": 13,
   "id": "2ba8ca2d-57e9-4ce2-bfc1-d37e9b02c7e2",
   "metadata": {},
   "outputs": [
    {
     "name": "stdout",
     "output_type": "stream",
     "text": [
      "TH4) 5! = 120\n"
     ]
    }
   ],
   "source": [
    "def giaithua(n: int) -> int:\n",
    "    if n < 0:\n",
    "        raise ValueError(\"n phai >= 0\")\n",
    "    if n == 0 or n == 1:\n",
    "        return 1\n",
    "    return n * giaithua(n - 1)\n",
    "\n",
    "num = 5\n",
    "print(f\"TH4) {num}! =\", giaithua(num))\n"
   ]
  },
  {
   "cell_type": "code",
   "execution_count": 14,
   "id": "ac94aa36-25b0-4b2f-b83c-1261e930bda0",
   "metadata": {},
   "outputs": [
    {
     "name": "stdout",
     "output_type": "stream",
     "text": [
      "TH5) 2^3 = 8\n"
     ]
    }
   ],
   "source": [
    "def power(a: int, b: int) -> int | float:\n",
    "    if b == 0:\n",
    "        return 1\n",
    "    if a == 0:\n",
    "        return 0\n",
    "    if b == 1:\n",
    "        return a\n",
    "    # nếu muốn hỗ trợ b âm:\n",
    "    if b < 0:\n",
    "        return 1 / power(a, -b)\n",
    "    return a * power(a, b - 1)\n",
    "\n",
    "a, b = 2, 3\n",
    "print(f\"TH5) {a}^{b} =\", power(a, b))\n"
   ]
  }
 ],
 "metadata": {
  "kernelspec": {
   "display_name": "Python 3 (ipykernel)",
   "language": "python",
   "name": "python3"
  },
  "language_info": {
   "codemirror_mode": {
    "name": "ipython",
    "version": 3
   },
   "file_extension": ".py",
   "mimetype": "text/x-python",
   "name": "python",
   "nbconvert_exporter": "python",
   "pygments_lexer": "ipython3",
   "version": "3.12.1"
  }
 },
 "nbformat": 4,
 "nbformat_minor": 5
}
