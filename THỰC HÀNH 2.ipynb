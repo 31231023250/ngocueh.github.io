{
 "cells": [
  {
   "cell_type": "markdown",
   "metadata": {
    "colab_type": "text",
    "id": "view-in-github"
   },
   "source": [
    "<a href=\"https://colab.research.google.com/github/31231023250/ngocueh.github.io/blob/main/Untitled1.ipynb\" target=\"_parent\"><img src=\"https://colab.research.google.com/assets/colab-badge.svg\" alt=\"Open In Colab\"/></a>"
   ]
  },
  {
   "cell_type": "markdown",
   "metadata": {
    "id": "BXf2zgugoEPS"
   },
   "source": [
    "\n",
    "\n",
    "```\n",
    "# Định dạng của đoạn này là mã\n",
    "```\n",
    "\n"
   ]
  },
  {
   "cell_type": "code",
   "execution_count": 1,
   "metadata": {
    "id": "T_hPduMFobc8"
   },
   "outputs": [
    {
     "name": "stdout",
     "output_type": "stream",
     "text": [
      "chieu dai chuoi : 21\n",
      "check len()     : 21\n"
     ]
    }
   ],
   "source": [
    "# Bài 1: Hàm tìm độ dài chuỗi (không dùng len())\n",
    "\n",
    "def chieudaiChuoi(s: str) -> int:\n",
    "    \"\"\"Đếm số ký tự trong chuỗi s mà không dùng len().\"\"\"\n",
    "    count = 0\n",
    "    for _ in s:       # duyệt từng ký tự\n",
    "        count += 1\n",
    "    return count\n",
    "\n",
    "# demo theo slide\n",
    "ss = \"hello world ... !!!!!\"\n",
    "print(\"chieu dai chuoi :\", chieudaiChuoi(ss))\n",
    "print(\"check len()     :\", len(ss))  # chỉ để đối chiếu kết quả"
   ]
  },
  {
   "cell_type": "code",
   "execution_count": 2,
   "metadata": {},
   "outputs": [
    {
     "name": "stdout",
     "output_type": "stream",
     "text": [
      "✅ pass!\n"
     ]
    }
   ],
   "source": [
    "tests = [\"\", \"A\", \"xin chào\", \"abc def\", \"🙂🙂\", \"độ dài\"]\n",
    "for t in tests:\n",
    "    assert chieudaiChuoi(t) == len(t)\n",
    "print(\"✅ pass!\")\n"
   ]
  },
  {
   "cell_type": "code",
   "execution_count": 4,
   "metadata": {},
   "outputs": [
    {
     "name": "stdout",
     "output_type": "stream",
     "text": [
      "\n",
      "=== Bài 2 (TH1): Dùng split() ===\n",
      "input : Tach chuoi dung split\n",
      "tach tu: ['Tach', 'chuoi', 'dung', 'split']\n",
      "The number of words in string are : 4\n",
      "\n",
      "=== Bài 2 (TH2): Không dùng split() ===\n",
      "input : tach chuoi thanh tu\n",
      "The number of words in string are = 4\n"
     ]
    }
   ],
   "source": [
    "# ================== BÀI 2: Đếm số lượng từ trong chuỗi ==================\n",
    "\n",
    "# TH1 — Dùng split()\n",
    "def dem_tu_split(s: str) -> int:\n",
    "    return len(s.split())\n",
    "\n",
    "print(\"\\n=== Bài 2 (TH1): Dùng split() ===\")\n",
    "test_string_1 = \"Tach chuoi dung split\"\n",
    "print(\"input :\", test_string_1)\n",
    "tach = test_string_1.split()\n",
    "print(\"tach tu:\", tach)\n",
    "print(\"The number of words in string are :\", len(tach))\n",
    "\n",
    "# TH2 — Không dùng split()\n",
    "def dem_tu_khong_split(s: str) -> int:\n",
    "    if len(s) == 0 or s.isspace():\n",
    "        return 0\n",
    "    s = s + \" \"                  # thêm 1 khoảng trắng để bắt từ cuối\n",
    "    total = 0\n",
    "    for i in range(len(s) - 1):\n",
    "        if s[i] != \" \" and s[i + 1] == \" \":\n",
    "            total += 1\n",
    "    return total\n",
    "\n",
    "print(\"\\n=== Bài 2 (TH2): Không dùng split() ===\")\n",
    "test_string_2 = \"tach chuoi thanh tu\"\n",
    "print(\"input :\", test_string_2)\n",
    "print(\"The number of words in string are =\", dem_tu_khong_split(test_string_2))"
   ]
  },
  {
   "cell_type": "code",
   "execution_count": 7,
   "metadata": {},
   "outputs": [
    {
     "name": "stdout",
     "output_type": "stream",
     "text": [
      "12\n",
      "2 5\n",
      "2 5\n"
     ]
    }
   ],
   "source": [
    "# ================== BÀI 3: Đếm số nguyên âm (a e i o u) & phụ âm ==================\n",
    "\n",
    "test_string  = \" !! fdafdaf \"\n",
    "valid_symbols = \"!@#$%^&*()._-+={}[]<>`/',\"   # theo slide\n",
    "\n",
    "# Phiên bản 1 (slide): dùng chuỗi \"aeiouAEIOU\"\n",
    "def dem_nguyenam_phuam(string):\n",
    "    nguyenam = 0\n",
    "    phuam    = 0\n",
    "    for char in string:\n",
    "        if char != ' ' and char not in valid_symbols:\n",
    "            if char in \"aeiouAEIOU\":\n",
    "                nguyenam = nguyenam + 1\n",
    "            else:\n",
    "                phuam = phuam + 1\n",
    "    return nguyenam, phuam\n",
    "\n",
    "# Phiên bản 2 (slide): dùng chuỗi điều kiện OR\n",
    "def dem_nguyenam_phuam_2(string):\n",
    "    nguyenam = 0\n",
    "    phuam    = 0\n",
    "    for i in string:\n",
    "        if i != ' ' and i not in valid_symbols:\n",
    "            if (i=='a' or i=='e' or i=='i' or i=='o' or i=='u' or\n",
    "                i=='A' or i=='E' or i=='I' or i=='O' or i=='U'):\n",
    "                nguyenam = nguyenam + 1\n",
    "            else:\n",
    "                phuam = phuam + 1\n",
    "    return nguyenam, phuam\n",
    "\n",
    "# --- In kết quả (2 dòng cho phiên bản 1) ---\n",
    "print(len(test_string))\n",
    "v, c = dem_nguyenam_phuam(test_string)\n",
    "print(v, c)\n",
    "\n",
    "#xem cả phiên bản 2:\n",
    "v2, c2 = dem_nguyenam_phuam_2(test_string)\n",
    "print(v2, c2)"
   ]
  }
 ],
 "metadata": {
  "colab": {
   "authorship_tag": "ABX9TyPfkkJDXZAYP8RkkVoaYnEG",
   "include_colab_link": true,
   "provenance": [],
   "toc_visible": true
  },
  "kernelspec": {
   "display_name": "Python 3 (ipykernel)",
   "language": "python",
   "name": "python3"
  },
  "language_info": {
   "codemirror_mode": {
    "name": "ipython",
    "version": 3
   },
   "file_extension": ".py",
   "mimetype": "text/x-python",
   "name": "python",
   "nbconvert_exporter": "python",
   "pygments_lexer": "ipython3",
   "version": "3.12.1"
  }
 },
 "nbformat": 4,
 "nbformat_minor": 4
}
