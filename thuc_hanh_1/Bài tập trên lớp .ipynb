{
 "cells": [
  {
   "cell_type": "code",
   "execution_count": 1,
   "id": "cab90c6b-beb1-4616-96dd-2152ff216cc4",
   "metadata": {},
   "outputs": [
    {
     "name": "stdin",
     "output_type": "stream",
     "text": [
      "a =  9\n",
      "b =  8\n",
      "c =  7\n"
     ]
    },
    {
     "name": "stdout",
     "output_type": "stream",
     "text": [
      "Max(9, 8, 7)= 9.\n"
     ]
    }
   ],
   "source": [
    "# BTL01 - Tìm giá trị lớn nhất của 3 số\n",
    "\n",
    "# Nhập a, b, c (mỗi dòng một số nguyên)\n",
    "a = int(input(\"a = \"))\n",
    "b = int(input(\"b = \"))\n",
    "c = int(input(\"c = \"))\n",
    "\n",
    "# Hàm max 2 số (đúng theo gợi ý trong file)\n",
    "def max_fn(x, y):\n",
    "    return x if x > y else y\n",
    "\n",
    "# Tìm max của 3 số\n",
    "vmax = max_fn(a, b)\n",
    "vmax = max_fn(vmax, c)\n",
    "\n",
    "# In đúng format ví dụ: Max(2, 5, 4)= 5.\n",
    "print(f\"Max({a}, {b}, {c})= {vmax}.\")\n"
   ]
  },
  {
   "cell_type": "code",
   "execution_count": 3,
   "id": "34826288-419f-477e-8103-0b693d96a9b7",
   "metadata": {},
   "outputs": [
    {
     "name": "stdin",
     "output_type": "stream",
     "text": [
      "a =  10\n",
      "b =  5\n",
      "c =  7\n"
     ]
    },
    {
     "name": "stdout",
     "output_type": "stream",
     "text": [
      "5 7 10\n"
     ]
    }
   ],
   "source": [
    "# BTL02 - Sap xep 3 so nguyen a, b, c tang dan\n",
    "\n",
    "# Input a, b, c\n",
    "a = int(input(\"a = \"))\n",
    "b = int(input(\"b = \"))\n",
    "c = int(input(\"c = \"))\n",
    "\n",
    "# Ham sap xep 2 so (theo huong dan: sort(a,b), sort(a,c), sort(b,c))\n",
    "def sort2(x, y):\n",
    "    if x > y:\n",
    "        x, y = y, x\n",
    "    return x, y\n",
    "\n",
    "# Áp dụng 3 lần để có a <= b <= c\n",
    "a, b = sort2(a, b)\n",
    "a, c = sort2(a, c)\n",
    "b, c = sort2(b, c)\n",
    "\n",
    "# Output đúng mẫu: 2 3 4\n",
    "print(a, b, c)\n"
   ]
  },
  {
   "cell_type": "code",
   "execution_count": 5,
   "id": "5c6f0cf8-ab5c-4844-8abc-cf2372dd8c96",
   "metadata": {},
   "outputs": [
    {
     "name": "stdin",
     "output_type": "stream",
     "text": [
      "Nhap a:  5\n",
      "Nhap b:  10\n"
     ]
    },
    {
     "name": "stdout",
     "output_type": "stream",
     "text": [
      "5.00x + 10.00 = 0: x = -2.00\n"
     ]
    }
   ],
   "source": [
    "# Input a, b (có prompt cho dễ thấy)\n",
    "a = float(input(\"Nhap a: \"))\n",
    "b = float(input(\"Nhap b: \"))\n",
    "\n",
    "# Process\n",
    "def solve1deg(a, b):\n",
    "    \"\"\"\n",
    "    return: nsol = -1 -> vô số nghiệm\n",
    "            nsol = 0  -> vô nghiệm\n",
    "            nsol = 1  -> có 1 nghiệm x\n",
    "    \"\"\"\n",
    "    if a == 0:\n",
    "        if b == 0:\n",
    "            return -1, None\n",
    "        else:\n",
    "            return 0, None\n",
    "    else:\n",
    "        return 1, -b / a\n",
    "\n",
    "nsol, x = solve1deg(a, b)\n",
    "\n",
    "# Output đúng format như file\n",
    "if nsol == -1:\n",
    "    print(\"%.2fx + %.2f = 0: unlimited solutions\" % (a, b))\n",
    "elif nsol == 0:\n",
    "    print(\"%.2fx + %.2f = 0: no solution\" % (a, b))\n",
    "else:\n",
    "    print(\"%.2fx + %.2f = 0: x = %.2f\" % (a, b, x))\n"
   ]
  },
  {
   "cell_type": "code",
   "execution_count": 2,
   "id": "fa28d64b-5b49-4602-a935-7210ebb4361d",
   "metadata": {},
   "outputs": [
    {
     "name": "stdin",
     "output_type": "stream",
     "text": [
      " 1996\n"
     ]
    },
    {
     "name": "stdout",
     "output_type": "stream",
     "text": [
      "366\n"
     ]
    }
   ],
   "source": [
    "# Input\n",
    "y = int(input())\n",
    "\n",
    "# Process\n",
    "def isleap(y):\n",
    "    # Năm nhuận: chia hết 400 hoặc (chia hết 4 và không chia hết 100)\n",
    "    return (y % 400 == 0) or (y % 4 == 0 and y % 100 != 0)\n",
    "\n",
    "def daysyear(y):\n",
    "    if isleap(y):\n",
    "        return 366\n",
    "    return 365\n",
    "\n",
    "# Output (đúng format: chỉ in số ngày)\n",
    "print(daysyear(y))"
   ]
  },
  {
   "cell_type": "code",
   "execution_count": 5,
   "id": "25c7bddc-afea-4b2c-84d8-29f41f969f9b",
   "metadata": {},
   "outputs": [
    {
     "name": "stdin",
     "output_type": "stream",
     "text": [
      " 3\n",
      " 8\n",
      " +\n"
     ]
    },
    {
     "name": "stdout",
     "output_type": "stream",
     "text": [
      "3 + 8 = 11\n"
     ]
    }
   ],
   "source": [
    "# BTL05 - Calculation\n",
    "a = float(input())\n",
    "b = float(input())\n",
    "op = input().strip()\n",
    "\n",
    "if op == '+':\n",
    "    res = a + b\n",
    "    print(f\"{a:g} + {b:g} = {res:g}\")\n",
    "elif op == '-':\n",
    "    res = a - b\n",
    "    print(f\"{a:g} - {b:g} = {res:g}\")\n",
    "elif op == '*':\n",
    "    res = a * b\n",
    "    print(f\"{a:g} * {b:g} = {res:g}\")\n",
    "elif op == '/':\n",
    "    if b == 0:\n",
    "        print(\"Khong tinh duoc\")\n",
    "    else:\n",
    "        res = a / b\n",
    "        print(f\"{a:g} / {b:g} = {res:g}\")\n",
    "else:\n",
    "    print(\"Phep toan khong hop le\")\n"
   ]
  },
  {
   "cell_type": "code",
   "execution_count": 6,
   "id": "64189a56-0630-4bae-8691-e44606d0d324",
   "metadata": {},
   "outputs": [
    {
     "name": "stdin",
     "output_type": "stream",
     "text": [
      " 3\n",
      " 190\n"
     ]
    },
    {
     "name": "stdout",
     "output_type": "stream",
     "text": [
      "The amount to pay for 187 kWh consumed in the month is 275,536 VND.\n"
     ]
    }
   ],
   "source": [
    "# ElectricPrice – tính tiền điện sinh hoạt + VAT 10%\n",
    "\n",
    "old_idx = int(input())  # chỉ số cũ\n",
    "new_idx = int(input())  # chỉ số mới\n",
    "\n",
    "kwh = new_idx - old_idx\n",
    "if kwh < 0:\n",
    "    print(\"Invalid input: new index < old index.\")\n",
    "else:\n",
    "    # Bậc thang (số kWh của bậc, đơn giá VND/kWh)\n",
    "    tiers = [\n",
    "        (100, 1242),          # 0–100\n",
    "        (50, 1304),           # 101–150\n",
    "        (50, 1651),           # 151–200\n",
    "        (100, 1788),          # 201–300\n",
    "        (100, 1912),          # 301–400\n",
    "        (float('inf'), 1962)  # 401+\n",
    "    ]\n",
    "\n",
    "    remain = kwh\n",
    "    subtotal = 0\n",
    "    for qty, price in tiers:\n",
    "        if remain <= 0:\n",
    "            break\n",
    "        take = min(remain, qty)\n",
    "        subtotal += take * price\n",
    "        remain -= take\n",
    "\n",
    "    total = round(subtotal * 1.10)  # + VAT 10% và làm tròn\n",
    "\n",
    "    print(f\"The amount to pay for {kwh} kWh consumed in the month is {total:,} VND.\")\n"
   ]
  },
  {
   "cell_type": "code",
   "execution_count": 7,
   "id": "5f1b69cb-73d6-42b6-b8f2-f5c657117f99",
   "metadata": {},
   "outputs": [
    {
     "name": "stdin",
     "output_type": "stream",
     "text": [
      " 1\n",
      " 2\n",
      " 2015\n"
     ]
    },
    {
     "name": "stdout",
     "output_type": "stream",
     "text": [
      "Previous day of 1/2/2015 is 31/1/2015.\n"
     ]
    }
   ],
   "source": [
    "# === Bài 7: PreviousDay ===\n",
    "# Input: d, m, y (mỗi giá trị một dòng)\n",
    "d = int(input())\n",
    "m = int(input())\n",
    "y = int(input())\n",
    "\n",
    "def is_leap(year: int) -> bool:\n",
    "    # Năm nhuận: chia hết 400, hoặc chia hết 4 nhưng không chia hết 100\n",
    "    return (year % 400 == 0) or (year % 4 == 0 and year % 100 != 0)\n",
    "\n",
    "def days_in_month(month: int, year: int) -> int:\n",
    "    # Số ngày của tháng theo bảng quyết định trong đề\n",
    "    if month in (1, 3, 5, 7, 8, 10, 12):\n",
    "        return 31\n",
    "    if month in (4, 6, 9, 11):\n",
    "        return 30\n",
    "    # month == 2\n",
    "    return 29 if is_leap(year) else 28\n",
    "\n",
    "def previous_day(d: int, m: int, y: int):\n",
    "    # Trường hợp đầu năm (1/1/y) -> 31/12/(y-1)\n",
    "    if d == 1 and m == 1:\n",
    "        return 31, 12, y - 1\n",
    "    # Trường hợp đầu tháng (d == 1) -> ngày cuối của tháng m-1\n",
    "    if d == 1:\n",
    "        pm = m - 1\n",
    "        py = y\n",
    "        pd = days_in_month(pm, py)\n",
    "        return pd, pm, py\n",
    "    # Còn lại -> lùi 1 ngày\n",
    "    return d - 1, m, y\n",
    "\n",
    "pd, pm, py = previous_day(d, m, y)\n",
    "print(f\"Previous day of {d}/{m}/{y} is {pd}/{pm}/{py}.\")\n"
   ]
  },
  {
   "cell_type": "code",
   "execution_count": 8,
   "id": "1713e93a-3417-4bd0-94c8-97cc5ddaeedf",
   "metadata": {},
   "outputs": [
    {
     "name": "stdin",
     "output_type": "stream",
     "text": [
      " 5\n",
      " 3\n",
      " 4\n"
     ]
    },
    {
     "name": "stdout",
     "output_type": "stream",
     "text": [
      "3, 4, 5 tao thanh mot tam giac.\n"
     ]
    }
   ],
   "source": [
    "# === Bài 8: CheckTriangle ===\n",
    "# Nhập 3 cạnh\n",
    "a = float(input())\n",
    "b = float(input())\n",
    "c = float(input())\n",
    "\n",
    "# Sắp xếp để dùng điều kiện rút gọn: a <= b <= c  ⇒  tam giác khi a + b > c\n",
    "a, b, c = sorted([a, b, c])\n",
    "\n",
    "if a <= 0:\n",
    "    print(\"Khong hop le (canh phai > 0).\")\n",
    "elif a + b > c:\n",
    "    print(f\"{a:g}, {b:g}, {c:g} tao thanh mot tam giac.\")\n",
    "else:\n",
    "    print(f\"{a:g}, {b:g}, {c:g} KHONG tao thanh tam giac.\")\n"
   ]
  },
  {
   "cell_type": "code",
   "execution_count": null,
   "id": "370ba23f-815a-4324-8b19-2b0f6c481aff",
   "metadata": {},
   "outputs": [],
   "source": []
  }
 ],
 "metadata": {
  "kernelspec": {
   "display_name": "Python 3 (ipykernel)",
   "language": "python",
   "name": "python3"
  },
  "language_info": {
   "codemirror_mode": {
    "name": "ipython",
    "version": 3
   },
   "file_extension": ".py",
   "mimetype": "text/x-python",
   "name": "python",
   "nbconvert_exporter": "python",
   "pygments_lexer": "ipython3",
   "version": "3.12.1"
  }
 },
 "nbformat": 4,
 "nbformat_minor": 5
}
