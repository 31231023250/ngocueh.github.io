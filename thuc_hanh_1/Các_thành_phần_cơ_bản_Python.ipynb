{
 "cells": [
  {
   "cell_type": "code",
   "execution_count": 1,
   "id": "d8459738-d557-4fa3-82bd-e23659fa2c2f",
   "metadata": {},
   "outputs": [
    {
     "name": "stdout",
     "output_type": "stream",
     "text": [
      "************************\n",
      "* Truong: Dai Hoc UEH  *\n",
      "* Khoa: CNTT           *\n",
      "* Ho ten:              *\n",
      "************************\n"
     ]
    }
   ],
   "source": [
    "# TH01 - InNhan (in khung giống mẫu)\n",
    "lines = [\n",
    "    \"Truong: Dai Hoc UEH\",\n",
    "    \"Khoa: CNTT\",\n",
    "    \"Ho ten:\"\n",
    "]\n",
    "\n",
    "inner = max(len(s) for s in lines) + 1   # chiều rộng phần nội dung\n",
    "border = \"*\" * (inner + 4)               # viền trên/dưới\n",
    "\n",
    "print(border)\n",
    "for s in lines:\n",
    "    print(f\"* {s.ljust(inner)} *\")\n",
    "print(border)"
   ]
  },
  {
   "cell_type": "code",
   "execution_count": 2,
   "id": "3e92aa81-d133-4ded-97cd-35a34fd7cd01",
   "metadata": {},
   "outputs": [
    {
     "name": "stdin",
     "output_type": "stream",
     "text": [
      "Nhap ban kinh R:  5\n"
     ]
    },
    {
     "name": "stdout",
     "output_type": "stream",
     "text": [
      "Dien tich S = 78.5\n",
      "Chu vi P = 31.4\n"
     ]
    }
   ],
   "source": [
    "# TH02 - Hinh tron\n",
    "R = float(input(\"Nhap ban kinh R: \"))\n",
    "S = 3.14 * (R ** 2)\n",
    "P = 2 * 3.14 * R\n",
    "print(f\"Dien tich S = {S:.1f}\")\n",
    "print(f\"Chu vi P = {P:.1f}\")\n"
   ]
  },
  {
   "cell_type": "code",
   "execution_count": 3,
   "id": "9c25c6c7-8624-4bda-aa49-2716e7dafa69",
   "metadata": {},
   "outputs": [
    {
     "name": "stdin",
     "output_type": "stream",
     "text": [
      "Nhap so gio:  2\n",
      "Nhap so phut:  30\n",
      "Nhap so giay:  10\n"
     ]
    },
    {
     "name": "stdout",
     "output_type": "stream",
     "text": [
      "Tong so giay cua 2:30:10 la 9010 giay\n"
     ]
    }
   ],
   "source": [
    "h = int(input(\"Nhap so gio: \"))\n",
    "m = int(input(\"Nhap so phut: \"))\n",
    "s = int(input(\"Nhap so giay: \"))\n",
    "\n",
    "total = h*3600 + m*60 + s\n",
    "print(f\"Tong so giay cua {h}:{m}:{s} la {total} giay\")\n"
   ]
  },
  {
   "cell_type": "code",
   "execution_count": 4,
   "id": "825fd523-7a67-497f-8415-5672017fb879",
   "metadata": {},
   "outputs": [
    {
     "name": "stdin",
     "output_type": "stream",
     "text": [
      "Nhap vao tong so giay:  5000\n"
     ]
    },
    {
     "name": "stdout",
     "output_type": "stream",
     "text": [
      "5000 giay co dang 1:23:20\n"
     ]
    }
   ],
   "source": [
    "t = int(input(\"Nhap vao tong so giay: \"))\n",
    "orig = t\n",
    "h = t // 3600\n",
    "t %= 3600\n",
    "m = t // 60\n",
    "s = t % 60\n",
    "print(f\"{orig} giay co dang {h}:{m}:{s}\")\n"
   ]
  },
  {
   "cell_type": "code",
   "execution_count": 5,
   "id": "ab1da75f-483c-437f-8453-06e59547cf5a",
   "metadata": {},
   "outputs": [
    {
     "name": "stdin",
     "output_type": "stream",
     "text": [
      "Nhap do dai canh a:  10\n",
      "Nhap do dai canh b:  8\n",
      "Nhap do dai canh c:  5\n"
     ]
    },
    {
     "name": "stdout",
     "output_type": "stream",
     "text": [
      "Dien tich tam giac S = 19.81\n"
     ]
    }
   ],
   "source": [
    "import math\n",
    "\n",
    "a = float(input(\"Nhap do dai canh a: \"))\n",
    "b = float(input(\"Nhap do dai canh b: \"))\n",
    "c = float(input(\"Nhap do dai canh c: \"))\n",
    "\n",
    "if a + b > c and a + c > b and b + c > a:\n",
    "    p = (a + b + c) / 2\n",
    "    S = math.sqrt(p * (p - a) * (p - b) * (p - c))\n",
    "    print(f\"Dien tich tam giac S = {S:.2f}\")\n",
    "else:\n",
    "    print(\"Khong tao thanh tam giac\")\n"
   ]
  },
  {
   "cell_type": "code",
   "execution_count": 6,
   "id": "16bdf6a8-b712-4c69-9cbe-a4ac4a7e0d1b",
   "metadata": {},
   "outputs": [
    {
     "name": "stdin",
     "output_type": "stream",
     "text": [
      "Nhap so thuc a:  10\n",
      "Nhap so mu n:  3\n"
     ]
    },
    {
     "name": "stdout",
     "output_type": "stream",
     "text": [
      "10.0^3 = 1000\n"
     ]
    }
   ],
   "source": [
    "# TH05 - Tinh mu\n",
    "a = float(input(\"Nhap so thuc a: \"))\n",
    "n = int(input(\"Nhap so mu n: \"))\n",
    "kq = a ** n\n",
    "print(f\"{a}^{n} = {kq:g}\")\n"
   ]
  },
  {
   "cell_type": "code",
   "execution_count": 7,
   "id": "b523e799-a913-4f94-9eee-d38527d38d06",
   "metadata": {},
   "outputs": [
    {
     "name": "stdin",
     "output_type": "stream",
     "text": [
      "Nhap so nguyen 4 chu so x:  5478\n"
     ]
    },
    {
     "name": "stdout",
     "output_type": "stream",
     "text": [
      "8745\n"
     ]
    }
   ],
   "source": [
    "# TH06 - Dao so 4 chu so\n",
    "x = int(input(\"Nhap so nguyen 4 chu so x: \"))\n",
    "a = x // 1000\n",
    "b = (x // 100) % 10\n",
    "c = (x // 10) % 10\n",
    "d = x % 10# TH07 - Do -> Radian\n",
    "import math\n",
    "deg = float(input(\"Nhap goc (do): \"))\n",
    "rad = deg * math.pi / 180\n",
    "print(f\"{deg} do = {rad:.6f} rad\")\n",
    "\n",
    "y = d*1000 + c*100 + b*10 + a\n",
    "print(y)\n"
   ]
  },
  {
   "cell_type": "code",
   "execution_count": 8,
   "id": "75402a8a-fa4d-4910-8652-8e387c154caf",
   "metadata": {},
   "outputs": [
    {
     "name": "stdin",
     "output_type": "stream",
     "text": [
      "Nhap goc (do):  70\n"
     ]
    },
    {
     "name": "stdout",
     "output_type": "stream",
     "text": [
      "70.0 do = 1.221730 rad\n"
     ]
    }
   ],
   "source": [
    "# TH07 - Do -> Radian\n",
    "import math\n",
    "deg = float(input(\"Nhap goc (do): \"))\n",
    "rad = deg * math.pi / 180\n",
    "print(f\"{deg} do = {rad:.6f} rad\")"
   ]
  },
  {
   "cell_type": "code",
   "execution_count": 10,
   "id": "9666cd20-2139-4501-860c-e363c59e5f6d",
   "metadata": {},
   "outputs": [
    {
     "name": "stdin",
     "output_type": "stream",
     "text": [
      "Nhap x:  5\n"
     ]
    },
    {
     "name": "stdout",
     "output_type": "stream",
     "text": [
      "y1 = 611.21\n",
      "y2 = 0.00\n"
     ]
    }
   ],
   "source": [
    "from math import sqrt, sin, cos, pi, e\n",
    "\n",
    "x = float(input(\"Nhap x: \"))\n",
    "\n",
    "y1 = 4 * (x**2 + 10*x*sqrt(x) + 3*x + 1)   # yêu cầu x >= 0 vì có sqrt(x)\n",
    "y2 = ( sin(pi * (x**2)) + sqrt(x**2 + 1) ) / ( e**(2*x) + cos((pi/4)*x) )\n",
    "\n",
    "print(f\"y1 = {y1:.2f}\")\n",
    "print(f\"y2 = {y2:.2f}\")"
   ]
  },
  {
   "cell_type": "code",
   "execution_count": 11,
   "id": "74bf63ba-8e60-4721-b35b-a2d80ab66435",
   "metadata": {},
   "outputs": [
    {
     "name": "stdin",
     "output_type": "stream",
     "text": [
      "x1 =  10\n",
      "y1 =  12\n",
      "x2 =  20\n",
      "y2 =  24\n"
     ]
    },
    {
     "name": "stdout",
     "output_type": "stream",
     "text": [
      "Khoang cach AB = 15.62\n"
     ]
    }
   ],
   "source": [
    "import math\n",
    "\n",
    "x1 = float(input(\"x1 = \"))\n",
    "y1 = float(input(\"y1 = \"))\n",
    "x2 = float(input(\"x2 = \"))\n",
    "y2 = float(input(\"y2 = \"))\n",
    "\n",
    "d = math.hypot(x2 - x1, y2 - y1)\n",
    "print(f\"Khoang cach AB = {d:.2f}\")\n"
   ]
  }
 ],
 "metadata": {
  "kernelspec": {
   "display_name": "Python 3 (ipykernel)",
   "language": "python",
   "name": "python3"
  },
  "language_info": {
   "codemirror_mode": {
    "name": "ipython",
    "version": 3
   },
   "file_extension": ".py",
   "mimetype": "text/x-python",
   "name": "python",
   "nbconvert_exporter": "python",
   "pygments_lexer": "ipython3",
   "version": "3.12.1"
  }
 },
 "nbformat": 4,
 "nbformat_minor": 5
}
