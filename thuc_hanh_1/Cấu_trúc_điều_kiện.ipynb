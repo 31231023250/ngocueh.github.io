{
 "cells": [
  {
   "cell_type": "code",
   "execution_count": 1,
   "id": "9a0bdc71-1b6e-4365-8942-87af0bfc29d2",
   "metadata": {},
   "outputs": [
    {
     "name": "stdin",
     "output_type": "stream",
     "text": [
      " 1\n",
      " 5\n",
      " 6\n",
      " 2\n",
      " 8\n"
     ]
    },
    {
     "name": "stdout",
     "output_type": "stream",
     "text": [
      "1 8\n"
     ]
    }
   ],
   "source": [
    "# BTL01 - MaxMin5: nhập 5 số và in min, max (min trước, rồi max) trên cùng 1 dòng\n",
    "\n",
    "# Input\n",
    "a = float(input())\n",
    "b = float(input())\n",
    "c = float(input())\n",
    "d = float(input())\n",
    "e = float(input())\n",
    "\n",
    "# Process\n",
    "nums = [a, b, c, d, e]\n",
    "mn = min(nums)\n",
    "mx = max(nums)\n",
    "\n",
    "# Output (đúng format trong file: \"min max\")\n",
    "# Nếu thầy yêu cầu số nguyên thì có thể đổi float -> int ở đây.\n",
    "if mn.is_integer() and mx.is_integer():\n",
    "    print(f\"{int(mn)} {int(mx)}\")\n",
    "else:\n",
    "    print(f\"{mn} {mx}\")\n"
   ]
  },
  {
   "cell_type": "code",
   "execution_count": 2,
   "id": "ba6c8e83-9164-4343-bc4f-608322a281e1",
   "metadata": {},
   "outputs": [
    {
     "name": "stdin",
     "output_type": "stream",
     "text": [
      " 1\n",
      " -5\n",
      " 6\n"
     ]
    },
    {
     "name": "stdout",
     "output_type": "stream",
     "text": [
      "x1=2.00, x2=3.00\n"
     ]
    }
   ],
   "source": [
    "# BTL02 - SolvQuadEq: a*x^2 + b*x + c = 0\n",
    "\n",
    "# Input\n",
    "a = float(input())\n",
    "b = float(input())\n",
    "c = float(input())\n",
    "\n",
    "# Process + Output (đúng thông điệp)\n",
    "EPS = 1e-12\n",
    "\n",
    "if abs(a) < EPS:\n",
    "    # bậc 1 hoặc vô nghiệm/vô số nghiệm\n",
    "    if abs(b) < EPS:\n",
    "        if abs(c) < EPS:\n",
    "            print(\"Unlimited solutions\")\n",
    "        else:\n",
    "            print(\"No solution\")\n",
    "    else:\n",
    "        x = -c / b\n",
    "        print(f\"x1={x:.2f}\")\n",
    "else:\n",
    "    # bậc 2\n",
    "    delta = b*b - 4*a*c\n",
    "    if delta < -EPS:\n",
    "        print(\"No solution\")\n",
    "    elif abs(delta) <= EPS:\n",
    "        x = -b / (2*a)\n",
    "        print(f\"x1={x:.2f}\")\n",
    "    else:\n",
    "        import math\n",
    "        sqrtD = math.sqrt(delta)\n",
    "        x1 = (-b - sqrtD) / (2*a)\n",
    "        x2 = (-b + sqrtD) / (2*a)\n",
    "        # theo ví dụ file: thứ tự x1 trước rồi x2\n",
    "        print(f\"x1={x1:.2f}, x2={x2:.2f}\")\n"
   ]
  },
  {
   "cell_type": "code",
   "execution_count": 3,
   "id": "52ee2877-06ab-42e3-af0d-3d68cb6bae85",
   "metadata": {},
   "outputs": [
    {
     "name": "stdin",
     "output_type": "stream",
     "text": [
      " 1\n",
      " 2015\n"
     ]
    },
    {
     "name": "stdout",
     "output_type": "stream",
     "text": [
      "31\n"
     ]
    }
   ],
   "source": [
    "# BTL03 - TotalDayMonth: số ngày trong tháng m của năm y\n",
    "\n",
    "# Input\n",
    "m = int(input())\n",
    "y = int(input())\n",
    "\n",
    "# Process\n",
    "def is_leap(year: int) -> bool:\n",
    "    return (year % 400 == 0) or (year % 4 == 0 and year % 100 != 0)\n",
    "\n",
    "days_in_month = [0,\n",
    "                 31, 28, 31, 30, 31, 30,\n",
    "                 31, 31, 30, 31, 30, 31]\n",
    "\n",
    "if m == 2 and is_leap(y):\n",
    "    print(29)\n",
    "else:\n",
    "    print(days_in_month[m])\n"
   ]
  },
  {
   "cell_type": "code",
   "execution_count": 4,
   "id": "090af1a7-7431-44c5-b8a0-3901b6d06c55",
   "metadata": {},
   "outputs": [
    {
     "name": "stdin",
     "output_type": "stream",
     "text": [
      " 2387\n"
     ]
    },
    {
     "name": "stdout",
     "output_type": "stream",
     "text": [
      "8\n"
     ]
    }
   ],
   "source": [
    "# BTL04 - MaxDigit: chữ số lớn nhất của số tự nhiên 4 chữ số\n",
    "\n",
    "# Input\n",
    "n = int(input())  # ví dụ: 2387\n",
    "\n",
    "# Process\n",
    "mx = 0\n",
    "x = abs(n)\n",
    "if x == 0:\n",
    "    mx = 0\n",
    "else:\n",
    "    while x > 0:\n",
    "        mx = max(mx, x % 10)\n",
    "        x //= 10\n",
    "\n",
    "# Output\n",
    "print(mx)\n"
   ]
  },
  {
   "cell_type": "code",
   "execution_count": 5,
   "id": "745d1ce9-b39d-4a7d-96b9-0b4c74529bba",
   "metadata": {},
   "outputs": [
    {
     "name": "stdin",
     "output_type": "stream",
     "text": [
      " 7\n",
      " 6\n",
      " 8\n"
     ]
    },
    {
     "name": "stdout",
     "output_type": "stream",
     "text": [
      "Average point = 6.67, rating Pretty.\n"
     ]
    }
   ],
   "source": [
    "# BTL05 - GPA: tính DTB và xếp loại\n",
    "\n",
    "# Input\n",
    "math = float(input())     # Toán\n",
    "phys = float(input())     # Lý\n",
    "chem = float(input())     # Hóa\n",
    "\n",
    "# Process\n",
    "gpa = (math*2 + phys*3 + chem) / 6\n",
    "\n",
    "if 8 <= gpa <= 10:\n",
    "    rating = \"Good\"\n",
    "elif 6.5 <= gpa < 8:\n",
    "    rating = \"Pretty\"\n",
    "elif 5 <= gpa < 6.5:\n",
    "    rating = \"Average\"\n",
    "else:\n",
    "    rating = \"Weak\"\n",
    "\n",
    "# Output (đúng format)\n",
    "print(f\"Average point = {gpa:.2f}, rating {rating}.\")\n"
   ]
  },
  {
   "cell_type": "code",
   "execution_count": 3,
   "id": "3af6bf4f-aec4-483c-85c8-4b897835c2de",
   "metadata": {},
   "outputs": [
    {
     "name": "stdin",
     "output_type": "stream",
     "text": [
      " 1\n",
      " 3\n"
     ]
    },
    {
     "name": "stdout",
     "output_type": "stream",
     "text": [
      "Payment for 2 m^3 in month is 8.800 đ.\n"
     ]
    }
   ],
   "source": [
    "## WATER PAYMENT\n",
    "\n",
    "old_index = int(input())   # chỉ số cũ\n",
    "new_index = int(input())   # chỉ số mới\n",
    "\n",
    "# m^3 dùng trong tháng (không âm)\n",
    "used = max(0, new_index - old_index)\n",
    "\n",
    "def water_bill(m3: int) -> int:\n",
    "    price = 0\n",
    "    # 4 m3 đầu\n",
    "    take = min(m3, 4)\n",
    "    price += take * 4400\n",
    "    m3 -= take\n",
    "\n",
    "    # 2 m3 kế tiếp\n",
    "    if m3 > 0:\n",
    "        take = min(m3, 2)\n",
    "        price += take * 8300\n",
    "        m3 -= take\n",
    "\n",
    "    # những m3 còn lại\n",
    "    if m3 > 0:\n",
    "        price += m3 * 10500\n",
    "\n",
    "    return price\n",
    "\n",
    "bill = water_bill(used)\n",
    "\n",
    "# In giống mẫu (dấu . ngăn cách phần nghìn)\n",
    "print(f\"Payment for {used} m^3 in month is {bill:,.0f} đ.\".replace(\",\", \".\"))"
   ]
  },
  {
   "cell_type": "code",
   "execution_count": 4,
   "id": "64b90560-d6c4-4bca-b8ac-041de79c18a0",
   "metadata": {},
   "outputs": [
    {
     "name": "stdin",
     "output_type": "stream",
     "text": [
      " 31\n",
      " 1\n",
      " 2025\n"
     ]
    },
    {
     "name": "stdout",
     "output_type": "stream",
     "text": [
      "1/2/2025\n"
     ]
    }
   ],
   "source": [
    "# NEXT DAY\n",
    "d = int(input())  # ngày\n",
    "m = int(input())  # tháng\n",
    "y = int(input())  # năm\n",
    "\n",
    "def is_leap(year):\n",
    "    return (year % 400 == 0) or (year % 4 == 0 and year % 100 != 0)\n",
    "\n",
    "def days_in_month(month, year):\n",
    "    if month in (1, 3, 5, 7, 8, 10, 12):\n",
    "        return 31\n",
    "    if month in (4, 6, 9, 11):\n",
    "        return 30\n",
    "    return 29 if is_leap(year) else 28\n",
    "\n",
    "# tính ngày sau\n",
    "d += 1\n",
    "if d > days_in_month(m, y):\n",
    "    d = 1\n",
    "    m += 1\n",
    "    if m > 12:\n",
    "        m = 1\n",
    "        y += 1\n",
    "\n",
    "print(f\"{d}/{m}/{y}\")"
   ]
  },
  {
   "cell_type": "code",
   "execution_count": 5,
   "id": "e7eeb58c-676e-48f2-b289-e5d3a8906372",
   "metadata": {},
   "outputs": [
    {
     "name": "stdin",
     "output_type": "stream",
     "text": [
      " 156\n"
     ]
    },
    {
     "name": "stdout",
     "output_type": "stream",
     "text": [
      "156 has 3 digits.\n",
      "1 + 5 + 6 = 12.\n",
      "Last digit is 6.\n",
      "Fist digit is 1.\n"
     ]
    }
   ],
   "source": [
    "# NUMBER INFO\n",
    "n = int(input())\n",
    "\n",
    "s = str(n)\n",
    "digits = len(s)\n",
    "sum_digits = sum(int(ch) for ch in s)\n",
    "last_digit = n % 10\n",
    "first_digit = int(s[0])\n",
    "\n",
    "print(f\"{n} has {digits} digits.\")\n",
    "print(\" + \".join(s) + f\" = {sum_digits}.\")\n",
    "print(f\"Last digit is {last_digit}.\")\n",
    "print(f\"Fist digit is {first_digit}.\")\n"
   ]
  },
  {
   "cell_type": "code",
   "execution_count": null,
   "id": "5080a817-cc80-40b8-8e4f-1387ea21bbda",
   "metadata": {},
   "outputs": [],
   "source": []
  }
 ],
 "metadata": {
  "kernelspec": {
   "display_name": "Python 3 (ipykernel)",
   "language": "python",
   "name": "python3"
  },
  "language_info": {
   "codemirror_mode": {
    "name": "ipython",
    "version": 3
   },
   "file_extension": ".py",
   "mimetype": "text/x-python",
   "name": "python",
   "nbconvert_exporter": "python",
   "pygments_lexer": "ipython3",
   "version": "3.12.1"
  }
 },
 "nbformat": 4,
 "nbformat_minor": 5
}
