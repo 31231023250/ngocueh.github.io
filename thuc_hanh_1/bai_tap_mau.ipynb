{
 "cells": [
  {
   "cell_type": "code",
   "execution_count": 1,
   "id": "e3867b2c-3301-45b2-975e-7a8e508592b1",
   "metadata": {},
   "outputs": [
    {
     "name": "stdout",
     "output_type": "stream",
     "text": [
      "Whoever is happy will make others happy too\n",
      "--Anne Frank\n"
     ]
    }
   ],
   "source": [
    "print(\"Whoever is happy will make others happy too\")\n",
    "print(\"--Anne Frank\")"
   ]
  },
  {
   "cell_type": "code",
   "execution_count": 1,
   "id": "d213569a-a7cf-4efd-ae2c-1123d08458d8",
   "metadata": {},
   "outputs": [
    {
     "name": "stdin",
     "output_type": "stream",
     "text": [
      "Moi ban nhap so a:  5\n",
      "Moi ban nhap so b:  6\n"
     ]
    },
    {
     "name": "stdout",
     "output_type": "stream",
     "text": [
      "Cac ket qua tinh toan: \n",
      "5     +     6 =    11\n",
      "5     -     6 =    -1\n",
      "5     *     6 =    30\n",
      "5     /     6 =     0\n",
      "5     /     6 =     5\n",
      "5     /     6 =  0.83\n"
     ]
    }
   ],
   "source": [
    "# Nhập dữ liệu\n",
    "a = int(input(\"Moi ban nhap so a: \"))\n",
    "b = int(input(\"Moi ban nhap so b: \"))\n",
    "# Xử lý\n",
    "kqCong = a + b\n",
    "kqTru = a - b\n",
    "kqNhan = a * b\n",
    "kqChiaNguyen = a // b\n",
    "kqDu= a % b\n",
    "kqChiaThuc = a / b\n",
    "# Xuất dữ liệu\n",
    "print(\"Cac ket qua tinh toan: \")\n",
    "print(\"%-5d + %5d = %5d\"%(a, b, kqCong))\n",
    "print(\"%-5d - %5d = %5d\"%(a, b, kqTru))\n",
    "print(\"%-5d * %5d = %5d\"%(a, b, kqNhan))\n",
    "print(\"%-5d / %5d = %5d\"%(a, b, kqChiaNguyen))\n",
    "print(\"%-5d / %5d = %5d\"%(a, b, kqDu))\n",
    "print(\"%-5d / %5d = %5.2f\"%(a, b, kqChiaThuc))"
   ]
  },
  {
   "cell_type": "code",
   "execution_count": 2,
   "id": "72ed2a81-9feb-4982-aa01-19b91f68aa28",
   "metadata": {},
   "outputs": [
    {
     "name": "stdin",
     "output_type": "stream",
     "text": [
      "Moi ban nhap so a:  10\n",
      "Moi ban nhap so b:  4\n"
     ]
    },
    {
     "name": "stdout",
     "output_type": "stream",
     "text": [
      "Ket qua so sanh hai so thuc 10.00 va 4.00:\n",
      "10.00    <     4.00:    False\n",
      "10.00    <=     4.00:    False\n",
      "10.00    >     4.00:     True\n",
      "10.00    >=     4.00:     True\n",
      "10.00    ==     4.00:    False\n",
      "10.00    !=     4.00:     True\n"
     ]
    }
   ],
   "source": [
    "# Nhập dữ liệu\n",
    "a = float(input(\"Moi ban nhap so a: \"))\n",
    "b = float(input(\"Moi ban nhap so b: \"))\n",
    "# Xử lý\n",
    "laNhoHon = (a < b)\n",
    "laNhoHonBang = (a <= b)\n",
    "laLonHon = (a > b)\n",
    "laLonHonBang = (a >= b)\n",
    "laBang = (a == b)\n",
    "laKhacNhau = (a != b)\n",
    "# Xuất dữ liệu\n",
    "print(\"Ket qua so sanh hai so thuc %.2f va %.2f:\"%(a, b))\n",
    "print(\"%-8.2f < %8.2f: %8s\"%(a, b, laNhoHon))\n",
    "print(\"%-8.2f <= %8.2f: %8s\"%(a, b, laNhoHonBang))\n",
    "print(\"%-8.2f > %8.2f: %8s\"%(a, b, laLonHon))\n",
    "print(\"%-8.2f >= %8.2f: %8s\"%(a, b, laLonHonBang))\n",
    "print(\"%-8.2f == %8.2f: %8s\"%(a, b, laBang))\n",
    "print(\"%-8.2f != %8.2f: %8s\"%(a, b, laKhacNhau))"
   ]
  },
  {
   "cell_type": "code",
   "execution_count": 3,
   "id": "3ad86917-f7b2-489a-8a66-aff4702270a1",
   "metadata": {},
   "outputs": [
    {
     "name": "stdin",
     "output_type": "stream",
     "text": [
      "Moi ban nhap vao gia tri cua bien so x:  7\n"
     ]
    },
    {
     "name": "stdout",
     "output_type": "stream",
     "text": [
      "Gia tri cua ham so f(7.00) = 147.20.\n"
     ]
    }
   ],
   "source": [
    "# Nạp thư viện\n",
    "import math# Nhập dữ liệu\n",
    "x = float(input(\"Moi ban nhap vao gia tri cua bien so x: \"))\n",
    "# Xử lý\n",
    "fx = x + math.pow(x, 5) / (1 * 2 * 3 * 4 * 5) + \\\n",
    "math.sqrt(abs(x)) / math.pow(x, 3.0 / 2)\n",
    "# Xuất dữ liệu\n",
    "print(\"Gia tri cua ham so f(%.2f) = %.2f.\"%(x, fx))"
   ]
  },
  {
   "cell_type": "code",
   "execution_count": 4,
   "id": "91c3a08b-54ca-4478-94cc-715d11439523",
   "metadata": {},
   "outputs": [
    {
     "name": "stdin",
     "output_type": "stream",
     "text": [
      "Moi ban nhap vao gia tri cua bien so x:  5\n"
     ]
    },
    {
     "name": "stdout",
     "output_type": "stream",
     "text": [
      "Gia tri cua ham so f(5.00) = 31.24.\n"
     ]
    }
   ],
   "source": [
    "# Nạp thư viện\n",
    "import math\n",
    "# Nhập dữ liệu\n",
    "x = float(input(\"Moi ban nhap vao gia tri cua bien so x: \"))\n",
    "# Xử lý\n",
    "fx = x + math.pow(x, 5) / (1 * 2 * 3 * 4 * 5) + \\\n",
    "math.sqrt(abs(x)) / math.pow(x, 3.0 / 2)\n",
    "# Xuất dữ liệu\n",
    "print(\"Gia tri cua ham so f(%.2f) = %.2f.\"%(x, fx))"
   ]
  },
  {
   "cell_type": "code",
   "execution_count": null,
   "id": "d4add483-2218-4888-baf0-3e0de5493408",
   "metadata": {},
   "outputs": [],
   "source": []
  }
 ],
 "metadata": {
  "kernelspec": {
   "display_name": "Python 3 (ipykernel)",
   "language": "python",
   "name": "python3"
  },
  "language_info": {
   "codemirror_mode": {
    "name": "ipython",
    "version": 3
   },
   "file_extension": ".py",
   "mimetype": "text/x-python",
   "name": "python",
   "nbconvert_exporter": "python",
   "pygments_lexer": "ipython3",
   "version": "3.12.1"
  }
 },
 "nbformat": 4,
 "nbformat_minor": 5
}
